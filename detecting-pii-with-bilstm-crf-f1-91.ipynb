{
 "cells": [
  {
   "cell_type": "markdown",
   "id": "b96a0f6f",
   "metadata": {
    "papermill": {
     "duration": 0.009712,
     "end_time": "2025-08-06T11:37:51.628366",
     "exception": false,
     "start_time": "2025-08-06T11:37:51.618654",
     "status": "completed"
    },
    "tags": []
   },
   "source": [
    "## PII Detection and Masking using BiLSTM + CRF\n",
    "\n",
    "**Personally Identifiable Information (PII)** refers to any data that can identify an individual, such as names, phone numbers, emails, addresses, or social security numbers.\n",
    "Protecting PII is essential for **data privacy**, **regulatory compliance (GDPR, HIPAA, CCPA)**, and **building safe AI systems**.\n",
    "\n",
    "In this notebook, we will:\n",
    "\n",
    "1. **Identify PII** from raw text using a **BiLSTM + CRF sequence labeling model**.\n",
    "2. **Mask or anonymize** sensitive information without altering the natural flow of the text.\n",
    "3. **Train a Named Entity Recognition (NER)-style model** to detect multiple PII types effectively.\n",
    "\n",
    "---\n",
    "\n",
    "### **Dataset Overview**\n",
    "\n",
    "We use the **AI4Privacy-PII dataset**, which contains:\n",
    "\n",
    "* **Raw and masked text pairs**.\n",
    "* **Token-level BIO tags** for multiple PII categories (e.g., `FIRSTNAME`, `PHONENUMBER`, `EMAIL`, `ADDRESS`).\n",
    "\n",
    "**Example:**\n",
    "\n",
    "| Original Text                                       | Masked Output                                                    |\n",
    "| --------------------------------------------------- | ---------------------------------------------------------------- |\n",
    "| \"My name is Sarah and my phone number is 555-1234.\" | \"My name is \\[FIRSTNAME] and my phone number is \\[PHONENUMBER].\" |\n",
    "\n",
    "Each token in the sentence is labeled using the **BIO tagging scheme**:\n",
    "\n",
    "* **O** → Non-PII token\n",
    "* **B-XXX** → Beginning of a PII entity\n",
    "* **I-XXX** → Inside a PII entity\n",
    "\n",
    "---\n",
    "\n",
    "This notebook will guide you through:\n",
    "\n",
    "1. **Loading & Examining the Dataset** – Understanding the PII labels and text structure.\n",
    "2. **Preprocessing & Tokenization** – Converting raw text into token IDs with BIO labels.\n",
    "3. **Model Training** – Training a **BiLSTM + CRF model** for sequence labeling.\n",
    "4. **Evaluation & Metrics** – Using accuracy, precision, recall, and F1-score to measure performance.\n",
    "5. **PII Masking Inference** – Automatically replacing detected PII with placeholders.\n",
    "\n",
    "---\n",
    "\n",
    "By the end of this notebook, you will have:\n",
    "\n",
    "A **trained BiLSTM + CRF model** for PII detection.\n",
    "A **reproducible Kaggle workflow** for token-level NER tasks."
   ]
  },
  {
   "cell_type": "markdown",
   "id": "015f769f",
   "metadata": {
    "papermill": {
     "duration": 0.008865,
     "end_time": "2025-08-06T11:37:51.645898",
     "exception": false,
     "start_time": "2025-08-06T11:37:51.637033",
     "status": "completed"
    },
    "tags": []
   },
   "source": [
    "#### Tools"
   ]
  },
  {
   "cell_type": "code",
   "execution_count": 1,
   "id": "6e59502d",
   "metadata": {
    "execution": {
     "iopub.execute_input": "2025-08-06T11:37:51.663532Z",
     "iopub.status.busy": "2025-08-06T11:37:51.663253Z",
     "iopub.status.idle": "2025-08-06T11:37:56.399171Z",
     "shell.execute_reply": "2025-08-06T11:37:56.398399Z"
    },
    "papermill": {
     "duration": 4.746621,
     "end_time": "2025-08-06T11:37:56.400710",
     "exception": false,
     "start_time": "2025-08-06T11:37:51.654089",
     "status": "completed"
    },
    "tags": []
   },
   "outputs": [],
   "source": [
    "!pip install pytorch-crf -q"
   ]
  },
  {
   "cell_type": "code",
   "execution_count": 2,
   "id": "41b4f8af",
   "metadata": {
    "execution": {
     "iopub.execute_input": "2025-08-06T11:37:56.419025Z",
     "iopub.status.busy": "2025-08-06T11:37:56.418782Z",
     "iopub.status.idle": "2025-08-06T11:38:06.332032Z",
     "shell.execute_reply": "2025-08-06T11:38:06.331429Z"
    },
    "papermill": {
     "duration": 9.923989,
     "end_time": "2025-08-06T11:38:06.333422",
     "exception": false,
     "start_time": "2025-08-06T11:37:56.409433",
     "status": "completed"
    },
    "tags": []
   },
   "outputs": [],
   "source": [
    "import collections\n",
    "from collections import Counter\n",
    "import numpy as np\n",
    "import pandas as pd\n",
    "import matplotlib.pyplot as plt\n",
    "from tqdm import tqdm\n",
    "\n",
    "import torch\n",
    "from torch.utils.data import TensorDataset, DataLoader, random_split\n",
    "import torch\n",
    "import torch.nn as nn\n",
    "from torchcrf import CRF\n",
    "\n",
    "from sklearn.metrics import precision_score, recall_score, f1_score, accuracy_score\n",
    "\n",
    "from datasets import load_dataset\n",
    "from transformers import BertTokenizerFast"
   ]
  },
  {
   "cell_type": "markdown",
   "id": "280a327d",
   "metadata": {
    "papermill": {
     "duration": 0.008124,
     "end_time": "2025-08-06T11:38:06.350774",
     "exception": false,
     "start_time": "2025-08-06T11:38:06.342650",
     "status": "completed"
    },
    "tags": []
   },
   "source": [
    "## EDA"
   ]
  },
  {
   "cell_type": "code",
   "execution_count": 3,
   "id": "e9b75bb9",
   "metadata": {
    "execution": {
     "iopub.execute_input": "2025-08-06T11:38:06.369142Z",
     "iopub.status.busy": "2025-08-06T11:38:06.368217Z",
     "iopub.status.idle": "2025-08-06T11:38:08.062099Z",
     "shell.execute_reply": "2025-08-06T11:38:08.061552Z"
    },
    "papermill": {
     "duration": 1.704113,
     "end_time": "2025-08-06T11:38:08.063339",
     "exception": false,
     "start_time": "2025-08-06T11:38:06.359226",
     "status": "completed"
    },
    "tags": []
   },
   "outputs": [
    {
     "data": {
      "application/vnd.jupyter.widget-view+json": {
       "model_id": "9ae873e7f7a04bac9d0e7fb7ed34d17a",
       "version_major": 2,
       "version_minor": 0
      },
      "text/plain": [
       "Generating train split: 0 examples [00:00, ? examples/s]"
      ]
     },
     "metadata": {},
     "output_type": "display_data"
    }
   ],
   "source": [
    "dataset = load_dataset(\"json\", data_files=\"/kaggle/input/ai4privacy-pii/pii-masking-200k/english_pii_43k.jsonl\")"
   ]
  },
  {
   "cell_type": "code",
   "execution_count": 4,
   "id": "8afe9058",
   "metadata": {
    "execution": {
     "iopub.execute_input": "2025-08-06T11:38:08.081141Z",
     "iopub.status.busy": "2025-08-06T11:38:08.080900Z",
     "iopub.status.idle": "2025-08-06T11:38:08.085419Z",
     "shell.execute_reply": "2025-08-06T11:38:08.084733Z"
    },
    "papermill": {
     "duration": 0.014444,
     "end_time": "2025-08-06T11:38:08.086513",
     "exception": false,
     "start_time": "2025-08-06T11:38:08.072069",
     "status": "completed"
    },
    "tags": []
   },
   "outputs": [
    {
     "data": {
      "text/plain": [
       "DatasetDict({\n",
       "    train: Dataset({\n",
       "        features: ['masked_text', 'unmasked_text', 'privacy_mask', 'span_labels', 'bio_labels', 'tokenised_text'],\n",
       "        num_rows: 43501\n",
       "    })\n",
       "})"
      ]
     },
     "execution_count": 4,
     "metadata": {},
     "output_type": "execute_result"
    }
   ],
   "source": [
    "dataset"
   ]
  },
  {
   "cell_type": "code",
   "execution_count": 5,
   "id": "b1182b3e",
   "metadata": {
    "execution": {
     "iopub.execute_input": "2025-08-06T11:38:08.106196Z",
     "iopub.status.busy": "2025-08-06T11:38:08.105677Z",
     "iopub.status.idle": "2025-08-06T11:38:08.109028Z",
     "shell.execute_reply": "2025-08-06T11:38:08.108415Z"
    },
    "papermill": {
     "duration": 0.015104,
     "end_time": "2025-08-06T11:38:08.110060",
     "exception": false,
     "start_time": "2025-08-06T11:38:08.094956",
     "status": "completed"
    },
    "tags": []
   },
   "outputs": [],
   "source": [
    "train_ds = dataset['train']"
   ]
  },
  {
   "cell_type": "code",
   "execution_count": 6,
   "id": "0502fd69",
   "metadata": {
    "execution": {
     "iopub.execute_input": "2025-08-06T11:38:08.128328Z",
     "iopub.status.busy": "2025-08-06T11:38:08.127746Z",
     "iopub.status.idle": "2025-08-06T11:38:08.133672Z",
     "shell.execute_reply": "2025-08-06T11:38:08.133055Z"
    },
    "papermill": {
     "duration": 0.015894,
     "end_time": "2025-08-06T11:38:08.134748",
     "exception": false,
     "start_time": "2025-08-06T11:38:08.118854",
     "status": "completed"
    },
    "tags": []
   },
   "outputs": [
    {
     "name": "stdout",
     "output_type": "stream",
     "text": [
      "{'masked_text': \"A student's assessment was found on device bearing IMEI: [PHONEIMEI_1]. The document falls under the various topics discussed in our [JOBAREA_1] curriculum. Can you please collect it?\", 'unmasked_text': \"A student's assessment was found on device bearing IMEI: 06-184755-866851-3. The document falls under the various topics discussed in our Optimization curriculum. Can you please collect it?\", 'privacy_mask': \"{'[PHONEIMEI_1]': '06-184755-866851-3', '[JOBAREA_1]': 'Optimization'}\", 'span_labels': \"[[0, 57, 'O'], [57, 75, 'PHONEIMEI_1'], [75, 138, 'O'], [138, 150, 'JOBAREA_1'], [150, 189, 'O']]\", 'bio_labels': ['O', 'O', 'O', 'O', 'O', 'O', 'O', 'O', 'O', 'O', 'O', 'O', 'O', 'B-PHONEIMEI', 'I-PHONEIMEI', 'I-PHONEIMEI', 'I-PHONEIMEI', 'I-PHONEIMEI', 'I-PHONEIMEI', 'I-PHONEIMEI', 'I-PHONEIMEI', 'I-PHONEIMEI', 'I-PHONEIMEI', 'I-PHONEIMEI', 'O', 'O', 'O', 'O', 'O', 'O', 'O', 'O', 'O', 'O', 'O', 'B-JOBAREA', 'O', 'O', 'O', 'O', 'O', 'O', 'O', 'O'], 'tokenised_text': ['a', 'student', \"'\", 's', 'assessment', 'was', 'found', 'on', 'device', 'bearing', 'im', '##ei', ':', '06', '-', '1847', '##55', '-', '86', '##6', '##85', '##1', '-', '3', '.', 'the', 'document', 'falls', 'under', 'the', 'various', 'topics', 'discussed', 'in', 'our', 'optimization', 'curriculum', '.', 'can', 'you', 'please', 'collect', 'it', '?']}\n"
     ]
    }
   ],
   "source": [
    "print(train_ds[0])"
   ]
  },
  {
   "cell_type": "markdown",
   "id": "f3468f54",
   "metadata": {
    "papermill": {
     "duration": 0.008239,
     "end_time": "2025-08-06T11:38:08.151493",
     "exception": false,
     "start_time": "2025-08-06T11:38:08.143254",
     "status": "completed"
    },
    "tags": []
   },
   "source": [
    "Extract all PII labels found in the dataset"
   ]
  },
  {
   "cell_type": "code",
   "execution_count": 7,
   "id": "10dbd83a",
   "metadata": {
    "execution": {
     "iopub.execute_input": "2025-08-06T11:38:08.169469Z",
     "iopub.status.busy": "2025-08-06T11:38:08.169193Z",
     "iopub.status.idle": "2025-08-06T11:44:34.619651Z",
     "shell.execute_reply": "2025-08-06T11:44:34.618749Z"
    },
    "papermill": {
     "duration": 386.461269,
     "end_time": "2025-08-06T11:44:34.621329",
     "exception": false,
     "start_time": "2025-08-06T11:38:08.160060",
     "status": "completed"
    },
    "tags": []
   },
   "outputs": [],
   "source": [
    "label_list = sorted(set(sum(train_ds['bio_labels'], [])))"
   ]
  },
  {
   "cell_type": "code",
   "execution_count": 8,
   "id": "a237ff7c",
   "metadata": {
    "execution": {
     "iopub.execute_input": "2025-08-06T11:44:34.685442Z",
     "iopub.status.busy": "2025-08-06T11:44:34.684743Z",
     "iopub.status.idle": "2025-08-06T11:44:34.690014Z",
     "shell.execute_reply": "2025-08-06T11:44:34.689426Z"
    },
    "papermill": {
     "duration": 0.06059,
     "end_time": "2025-08-06T11:44:34.691088",
     "exception": false,
     "start_time": "2025-08-06T11:44:34.630498",
     "status": "completed"
    },
    "tags": []
   },
   "outputs": [
    {
     "data": {
      "text/plain": [
       "['B-ACCOUNTNAME',\n",
       " 'B-ACCOUNTNUMBER',\n",
       " 'B-AGE',\n",
       " 'B-AMOUNT',\n",
       " 'B-BIC',\n",
       " 'B-BITCOINADDRESS',\n",
       " 'B-BUILDINGNUMBER',\n",
       " 'B-CITY',\n",
       " 'B-COMPANYNAME',\n",
       " 'B-COUNTY',\n",
       " 'B-CREDITCARDCVV',\n",
       " 'B-CREDITCARDISSUER',\n",
       " 'B-CREDITCARDNUMBER',\n",
       " 'B-CURRENCY',\n",
       " 'B-CURRENCYCODE',\n",
       " 'B-CURRENCYNAME',\n",
       " 'B-CURRENCYSYMBOL',\n",
       " 'B-DATE',\n",
       " 'B-DOB',\n",
       " 'B-EMAIL',\n",
       " 'B-ETHEREUMADDRESS',\n",
       " 'B-EYECOLOR',\n",
       " 'B-FIRSTNAME',\n",
       " 'B-GENDER',\n",
       " 'B-HEIGHT',\n",
       " 'B-IBAN',\n",
       " 'B-IP',\n",
       " 'B-IPV4',\n",
       " 'B-IPV6',\n",
       " 'B-JOBAREA',\n",
       " 'B-JOBTITLE',\n",
       " 'B-JOBTYPE',\n",
       " 'B-LASTNAME',\n",
       " 'B-LITECOINADDRESS',\n",
       " 'B-MAC',\n",
       " 'B-MASKEDNUMBER',\n",
       " 'B-MIDDLENAME',\n",
       " 'B-NEARBYGPSCOORDINATE',\n",
       " 'B-ORDINALDIRECTION',\n",
       " 'B-PASSWORD',\n",
       " 'B-PHONEIMEI',\n",
       " 'B-PHONENUMBER',\n",
       " 'B-PIN',\n",
       " 'B-PREFIX',\n",
       " 'B-SECONDARYADDRESS',\n",
       " 'B-SEX',\n",
       " 'B-SSN',\n",
       " 'B-STATE',\n",
       " 'B-STREET',\n",
       " 'B-TIME',\n",
       " 'B-URL',\n",
       " 'B-USERAGENT',\n",
       " 'B-USERNAME',\n",
       " 'B-VEHICLEVIN',\n",
       " 'B-VEHICLEVRM',\n",
       " 'B-ZIPCODE',\n",
       " 'I-ACCOUNTNAME',\n",
       " 'I-ACCOUNTNUMBER',\n",
       " 'I-AGE',\n",
       " 'I-AMOUNT',\n",
       " 'I-BIC',\n",
       " 'I-BITCOINADDRESS',\n",
       " 'I-BUILDINGNUMBER',\n",
       " 'I-CITY',\n",
       " 'I-COMPANYNAME',\n",
       " 'I-COUNTY',\n",
       " 'I-CREDITCARDCVV',\n",
       " 'I-CREDITCARDISSUER',\n",
       " 'I-CREDITCARDNUMBER',\n",
       " 'I-CURRENCY',\n",
       " 'I-CURRENCYCODE',\n",
       " 'I-CURRENCYNAME',\n",
       " 'I-CURRENCYSYMBOL',\n",
       " 'I-DATE',\n",
       " 'I-DOB',\n",
       " 'I-EMAIL',\n",
       " 'I-ETHEREUMADDRESS',\n",
       " 'I-EYECOLOR',\n",
       " 'I-FIRSTNAME',\n",
       " 'I-GENDER',\n",
       " 'I-HEIGHT',\n",
       " 'I-IBAN',\n",
       " 'I-IP',\n",
       " 'I-IPV4',\n",
       " 'I-IPV6',\n",
       " 'I-JOBAREA',\n",
       " 'I-JOBTITLE',\n",
       " 'I-JOBTYPE',\n",
       " 'I-LASTNAME',\n",
       " 'I-LITECOINADDRESS',\n",
       " 'I-MAC',\n",
       " 'I-MASKEDNUMBER',\n",
       " 'I-MIDDLENAME',\n",
       " 'I-NEARBYGPSCOORDINATE',\n",
       " 'I-PASSWORD',\n",
       " 'I-PHONEIMEI',\n",
       " 'I-PHONENUMBER',\n",
       " 'I-PIN',\n",
       " 'I-PREFIX',\n",
       " 'I-SECONDARYADDRESS',\n",
       " 'I-SSN',\n",
       " 'I-STATE',\n",
       " 'I-STREET',\n",
       " 'I-TIME',\n",
       " 'I-URL',\n",
       " 'I-USERAGENT',\n",
       " 'I-USERNAME',\n",
       " 'I-VEHICLEVIN',\n",
       " 'I-VEHICLEVRM',\n",
       " 'I-ZIPCODE',\n",
       " 'O']"
      ]
     },
     "execution_count": 8,
     "metadata": {},
     "output_type": "execute_result"
    }
   ],
   "source": [
    "label_list"
   ]
  },
  {
   "cell_type": "markdown",
   "id": "a3f9c23a",
   "metadata": {
    "papermill": {
     "duration": 0.008341,
     "end_time": "2025-08-06T11:44:34.708001",
     "exception": false,
     "start_time": "2025-08-06T11:44:34.699660",
     "status": "completed"
    },
    "tags": []
   },
   "source": [
    "Map them to label2id and id2label"
   ]
  },
  {
   "cell_type": "code",
   "execution_count": 9,
   "id": "d849637a",
   "metadata": {
    "execution": {
     "iopub.execute_input": "2025-08-06T11:44:34.725427Z",
     "iopub.status.busy": "2025-08-06T11:44:34.725218Z",
     "iopub.status.idle": "2025-08-06T11:44:34.728746Z",
     "shell.execute_reply": "2025-08-06T11:44:34.728163Z"
    },
    "papermill": {
     "duration": 0.013423,
     "end_time": "2025-08-06T11:44:34.729724",
     "exception": false,
     "start_time": "2025-08-06T11:44:34.716301",
     "status": "completed"
    },
    "tags": []
   },
   "outputs": [],
   "source": [
    "label2id = {label: idx for idx, label in enumerate(label_list)}\n",
    "id2label = {idx: label for label, idx in label2id.items()}"
   ]
  },
  {
   "cell_type": "code",
   "execution_count": 10,
   "id": "5f357b65",
   "metadata": {
    "execution": {
     "iopub.execute_input": "2025-08-06T11:44:34.747351Z",
     "iopub.status.busy": "2025-08-06T11:44:34.747168Z",
     "iopub.status.idle": "2025-08-06T11:44:34.749849Z",
     "shell.execute_reply": "2025-08-06T11:44:34.749331Z"
    },
    "papermill": {
     "duration": 0.012566,
     "end_time": "2025-08-06T11:44:34.750843",
     "exception": false,
     "start_time": "2025-08-06T11:44:34.738277",
     "status": "completed"
    },
    "tags": []
   },
   "outputs": [],
   "source": [
    "#id2label"
   ]
  },
  {
   "cell_type": "code",
   "execution_count": 11,
   "id": "1d6b6dc8",
   "metadata": {
    "execution": {
     "iopub.execute_input": "2025-08-06T11:44:34.768417Z",
     "iopub.status.busy": "2025-08-06T11:44:34.768233Z",
     "iopub.status.idle": "2025-08-06T11:44:34.770740Z",
     "shell.execute_reply": "2025-08-06T11:44:34.770233Z"
    },
    "papermill": {
     "duration": 0.012377,
     "end_time": "2025-08-06T11:44:34.771767",
     "exception": false,
     "start_time": "2025-08-06T11:44:34.759390",
     "status": "completed"
    },
    "tags": []
   },
   "outputs": [],
   "source": [
    "# label2id"
   ]
  },
  {
   "cell_type": "code",
   "execution_count": 12,
   "id": "92fb90e6",
   "metadata": {
    "execution": {
     "iopub.execute_input": "2025-08-06T11:44:34.789206Z",
     "iopub.status.busy": "2025-08-06T11:44:34.789005Z",
     "iopub.status.idle": "2025-08-06T11:44:34.792480Z",
     "shell.execute_reply": "2025-08-06T11:44:34.791911Z"
    },
    "papermill": {
     "duration": 0.013222,
     "end_time": "2025-08-06T11:44:34.793420",
     "exception": false,
     "start_time": "2025-08-06T11:44:34.780198",
     "status": "completed"
    },
    "tags": []
   },
   "outputs": [
    {
     "name": "stdout",
     "output_type": "stream",
     "text": [
      "Number of rows: 43501\n"
     ]
    }
   ],
   "source": [
    "print(\"Number of rows:\", len(train_ds))"
   ]
  },
  {
   "cell_type": "code",
   "execution_count": 13,
   "id": "c7b1de9a",
   "metadata": {
    "execution": {
     "iopub.execute_input": "2025-08-06T11:44:34.811092Z",
     "iopub.status.busy": "2025-08-06T11:44:34.810901Z",
     "iopub.status.idle": "2025-08-06T11:44:34.814553Z",
     "shell.execute_reply": "2025-08-06T11:44:34.813966Z"
    },
    "papermill": {
     "duration": 0.013587,
     "end_time": "2025-08-06T11:44:34.815536",
     "exception": false,
     "start_time": "2025-08-06T11:44:34.801949",
     "status": "completed"
    },
    "tags": []
   },
   "outputs": [
    {
     "name": "stdout",
     "output_type": "stream",
     "text": [
      "Features: {'masked_text': Value(dtype='string', id=None), 'unmasked_text': Value(dtype='string', id=None), 'privacy_mask': Value(dtype='string', id=None), 'span_labels': Value(dtype='string', id=None), 'bio_labels': Sequence(feature=Value(dtype='string', id=None), length=-1, id=None), 'tokenised_text': Sequence(feature=Value(dtype='string', id=None), length=-1, id=None)}\n"
     ]
    }
   ],
   "source": [
    "print(\"Features:\", train_ds.features)"
   ]
  },
  {
   "cell_type": "code",
   "execution_count": 14,
   "id": "a7436ee8",
   "metadata": {
    "execution": {
     "iopub.execute_input": "2025-08-06T11:44:34.833470Z",
     "iopub.status.busy": "2025-08-06T11:44:34.833261Z",
     "iopub.status.idle": "2025-08-06T11:44:35.038508Z",
     "shell.execute_reply": "2025-08-06T11:44:35.037729Z"
    },
    "papermill": {
     "duration": 0.216045,
     "end_time": "2025-08-06T11:44:35.040023",
     "exception": false,
     "start_time": "2025-08-06T11:44:34.823978",
     "status": "completed"
    },
    "tags": []
   },
   "outputs": [],
   "source": [
    "df = train_ds.to_pandas()"
   ]
  },
  {
   "cell_type": "code",
   "execution_count": 15,
   "id": "017a2ceb",
   "metadata": {
    "execution": {
     "iopub.execute_input": "2025-08-06T11:44:35.059222Z",
     "iopub.status.busy": "2025-08-06T11:44:35.058986Z",
     "iopub.status.idle": "2025-08-06T11:44:35.088031Z",
     "shell.execute_reply": "2025-08-06T11:44:35.087407Z"
    },
    "papermill": {
     "duration": 0.03951,
     "end_time": "2025-08-06T11:44:35.089090",
     "exception": false,
     "start_time": "2025-08-06T11:44:35.049580",
     "status": "completed"
    },
    "tags": []
   },
   "outputs": [
    {
     "data": {
      "text/html": [
       "<div>\n",
       "<style scoped>\n",
       "    .dataframe tbody tr th:only-of-type {\n",
       "        vertical-align: middle;\n",
       "    }\n",
       "\n",
       "    .dataframe tbody tr th {\n",
       "        vertical-align: top;\n",
       "    }\n",
       "\n",
       "    .dataframe thead th {\n",
       "        text-align: right;\n",
       "    }\n",
       "</style>\n",
       "<table border=\"1\" class=\"dataframe\">\n",
       "  <thead>\n",
       "    <tr style=\"text-align: right;\">\n",
       "      <th></th>\n",
       "      <th>masked_text</th>\n",
       "      <th>unmasked_text</th>\n",
       "      <th>privacy_mask</th>\n",
       "      <th>span_labels</th>\n",
       "      <th>bio_labels</th>\n",
       "      <th>tokenised_text</th>\n",
       "    </tr>\n",
       "  </thead>\n",
       "  <tbody>\n",
       "    <tr>\n",
       "      <th>0</th>\n",
       "      <td>A student's assessment was found on device bea...</td>\n",
       "      <td>A student's assessment was found on device bea...</td>\n",
       "      <td>{'[PHONEIMEI_1]': '06-184755-866851-3', '[JOBA...</td>\n",
       "      <td>[[0, 57, 'O'], [57, 75, 'PHONEIMEI_1'], [75, 1...</td>\n",
       "      <td>[O, O, O, O, O, O, O, O, O, O, O, O, O, B-PHON...</td>\n",
       "      <td>[a, student, ', s, assessment, was, found, on,...</td>\n",
       "    </tr>\n",
       "    <tr>\n",
       "      <th>1</th>\n",
       "      <td>Dear [FIRSTNAME_1], as per our records, your l...</td>\n",
       "      <td>Dear Omer, as per our records, your license 78...</td>\n",
       "      <td>{'[FIRSTNAME_1]': 'Omer', '[VEHICLEVIN_1]': '7...</td>\n",
       "      <td>[[0, 5, 'O'], [5, 9, 'FIRSTNAME_1'], [9, 44, '...</td>\n",
       "      <td>[O, B-FIRSTNAME, I-FIRSTNAME, O, O, O, O, O, O...</td>\n",
       "      <td>[dear, om, ##er, ,, as, per, our, records, ,, ...</td>\n",
       "    </tr>\n",
       "    <tr>\n",
       "      <th>2</th>\n",
       "      <td>[FIRSTNAME_1] could you please share your reco...</td>\n",
       "      <td>Kattie could you please share your recomndatio...</td>\n",
       "      <td>{'[FIRSTNAME_1]': 'Kattie', '[AGE_1]': '72', '...</td>\n",
       "      <td>[[0, 6, 'FIRSTNAME_1'], [6, 75, 'O'], [75, 77,...</td>\n",
       "      <td>[B-FIRSTNAME, I-FIRSTNAME, O, O, O, O, O, O, O...</td>\n",
       "      <td>[kat, ##tie, could, you, please, share, your, ...</td>\n",
       "    </tr>\n",
       "    <tr>\n",
       "      <th>3</th>\n",
       "      <td>Emergency supplies in [BUILDINGNUMBER_1] need ...</td>\n",
       "      <td>Emergency supplies in 16356 need a refill. Use...</td>\n",
       "      <td>{'[BUILDINGNUMBER_1]': '16356', '[MASKEDNUMBER...</td>\n",
       "      <td>[[0, 22, 'O'], [22, 27, 'BUILDINGNUMBER_1'], [...</td>\n",
       "      <td>[O, O, O, B-BUILDINGNUMBER, I-BUILDINGNUMBER, ...</td>\n",
       "      <td>[emergency, supplies, in, 1635, ##6, need, a, ...</td>\n",
       "    </tr>\n",
       "    <tr>\n",
       "      <th>4</th>\n",
       "      <td>The [AGE_1] old child at [BUILDINGNUMBER_1], h...</td>\n",
       "      <td>The 88 old child at 5862, has showcased an unu...</td>\n",
       "      <td>{'[AGE_1]': '88', '[BUILDINGNUMBER_1]': '5862'...</td>\n",
       "      <td>[[0, 4, 'O'], [4, 6, 'AGE_1'], [6, 20, 'O'], [...</td>\n",
       "      <td>[O, B-AGE, O, O, O, B-BUILDINGNUMBER, I-BUILDI...</td>\n",
       "      <td>[the, 88, old, child, at, 58, ##6, ##2, ,, has...</td>\n",
       "    </tr>\n",
       "    <tr>\n",
       "      <th>...</th>\n",
       "      <td>...</td>\n",
       "      <td>...</td>\n",
       "      <td>...</td>\n",
       "      <td>...</td>\n",
       "      <td>...</td>\n",
       "      <td>...</td>\n",
       "    </tr>\n",
       "    <tr>\n",
       "      <th>43496</th>\n",
       "      <td>Hello [FIRSTNAME_1], your cognitive therapy ap...</td>\n",
       "      <td>Hello Nellie, your cognitive therapy appointme...</td>\n",
       "      <td>{'[FIRSTNAME_1]': 'Nellie', '[DATE_1]': '8/21'...</td>\n",
       "      <td>[[0, 6, 'O'], [6, 12, 'FIRSTNAME_1'], [12, 66,...</td>\n",
       "      <td>[O, B-FIRSTNAME, O, O, O, O, O, O, O, O, B-DAT...</td>\n",
       "      <td>[hello, nellie, ,, your, cognitive, therapy, a...</td>\n",
       "    </tr>\n",
       "    <tr>\n",
       "      <th>43497</th>\n",
       "      <td>Dear [FIRSTNAME_1], we appreciate your active ...</td>\n",
       "      <td>Dear Jalon, we appreciate your active involvem...</td>\n",
       "      <td>{'[FIRSTNAME_1]': 'Jalon', '[CREDITCARDNUMBER_...</td>\n",
       "      <td>[[0, 5, 'O'], [5, 10, 'FIRSTNAME_1'], [10, 159...</td>\n",
       "      <td>[O, B-FIRSTNAME, I-FIRSTNAME, O, O, O, O, O, O...</td>\n",
       "      <td>[dear, ja, ##lon, ,, we, appreciate, your, act...</td>\n",
       "    </tr>\n",
       "    <tr>\n",
       "      <th>43498</th>\n",
       "      <td>Dear [SEX_1] at [ZIPCODE_1], we are raising fu...</td>\n",
       "      <td>Dear Female at 32363-2779, we are raising fund...</td>\n",
       "      <td>{'[SEX_1]': 'Female', '[ZIPCODE_1]': '32363-27...</td>\n",
       "      <td>[[0, 5, 'O'], [5, 11, 'SEX_1'], [11, 15, 'O'],...</td>\n",
       "      <td>[O, B-SEX, O, B-ZIPCODE, I-ZIPCODE, I-ZIPCODE,...</td>\n",
       "      <td>[dear, female, at, 323, ##6, ##3, -, 277, ##9,...</td>\n",
       "    </tr>\n",
       "    <tr>\n",
       "      <th>43499</th>\n",
       "      <td>Hello [FIRSTNAME_1], we encourage you to pay t...</td>\n",
       "      <td>Hello Tito, we encourage you to pay the fees o...</td>\n",
       "      <td>{'[FIRSTNAME_1]': 'Tito', '[ETHEREUMADDRESS_1]...</td>\n",
       "      <td>[[0, 6, 'O'], [6, 10, 'FIRSTNAME_1'], [10, 137...</td>\n",
       "      <td>[O, B-FIRSTNAME, O, O, O, O, O, O, O, O, O, O,...</td>\n",
       "      <td>[hello, tito, ,, we, encourage, you, to, pay, ...</td>\n",
       "    </tr>\n",
       "    <tr>\n",
       "      <th>43500</th>\n",
       "      <td>Due to suspect transactions, the payment throu...</td>\n",
       "      <td>Due to suspect transactions, the payment throu...</td>\n",
       "      <td>{'[MASKEDNUMBER_1]': '7677516432228268', '[CRE...</td>\n",
       "      <td>[[0, 70, 'O'], [70, 86, 'MASKEDNUMBER_1'], [86...</td>\n",
       "      <td>[O, O, O, O, O, O, O, O, O, O, O, O, B-MASKEDN...</td>\n",
       "      <td>[due, to, suspect, transactions, ,, the, payme...</td>\n",
       "    </tr>\n",
       "  </tbody>\n",
       "</table>\n",
       "<p>43501 rows × 6 columns</p>\n",
       "</div>"
      ],
      "text/plain": [
       "                                             masked_text  \\\n",
       "0      A student's assessment was found on device bea...   \n",
       "1      Dear [FIRSTNAME_1], as per our records, your l...   \n",
       "2      [FIRSTNAME_1] could you please share your reco...   \n",
       "3      Emergency supplies in [BUILDINGNUMBER_1] need ...   \n",
       "4      The [AGE_1] old child at [BUILDINGNUMBER_1], h...   \n",
       "...                                                  ...   \n",
       "43496  Hello [FIRSTNAME_1], your cognitive therapy ap...   \n",
       "43497  Dear [FIRSTNAME_1], we appreciate your active ...   \n",
       "43498  Dear [SEX_1] at [ZIPCODE_1], we are raising fu...   \n",
       "43499  Hello [FIRSTNAME_1], we encourage you to pay t...   \n",
       "43500  Due to suspect transactions, the payment throu...   \n",
       "\n",
       "                                           unmasked_text  \\\n",
       "0      A student's assessment was found on device bea...   \n",
       "1      Dear Omer, as per our records, your license 78...   \n",
       "2      Kattie could you please share your recomndatio...   \n",
       "3      Emergency supplies in 16356 need a refill. Use...   \n",
       "4      The 88 old child at 5862, has showcased an unu...   \n",
       "...                                                  ...   \n",
       "43496  Hello Nellie, your cognitive therapy appointme...   \n",
       "43497  Dear Jalon, we appreciate your active involvem...   \n",
       "43498  Dear Female at 32363-2779, we are raising fund...   \n",
       "43499  Hello Tito, we encourage you to pay the fees o...   \n",
       "43500  Due to suspect transactions, the payment throu...   \n",
       "\n",
       "                                            privacy_mask  \\\n",
       "0      {'[PHONEIMEI_1]': '06-184755-866851-3', '[JOBA...   \n",
       "1      {'[FIRSTNAME_1]': 'Omer', '[VEHICLEVIN_1]': '7...   \n",
       "2      {'[FIRSTNAME_1]': 'Kattie', '[AGE_1]': '72', '...   \n",
       "3      {'[BUILDINGNUMBER_1]': '16356', '[MASKEDNUMBER...   \n",
       "4      {'[AGE_1]': '88', '[BUILDINGNUMBER_1]': '5862'...   \n",
       "...                                                  ...   \n",
       "43496  {'[FIRSTNAME_1]': 'Nellie', '[DATE_1]': '8/21'...   \n",
       "43497  {'[FIRSTNAME_1]': 'Jalon', '[CREDITCARDNUMBER_...   \n",
       "43498  {'[SEX_1]': 'Female', '[ZIPCODE_1]': '32363-27...   \n",
       "43499  {'[FIRSTNAME_1]': 'Tito', '[ETHEREUMADDRESS_1]...   \n",
       "43500  {'[MASKEDNUMBER_1]': '7677516432228268', '[CRE...   \n",
       "\n",
       "                                             span_labels  \\\n",
       "0      [[0, 57, 'O'], [57, 75, 'PHONEIMEI_1'], [75, 1...   \n",
       "1      [[0, 5, 'O'], [5, 9, 'FIRSTNAME_1'], [9, 44, '...   \n",
       "2      [[0, 6, 'FIRSTNAME_1'], [6, 75, 'O'], [75, 77,...   \n",
       "3      [[0, 22, 'O'], [22, 27, 'BUILDINGNUMBER_1'], [...   \n",
       "4      [[0, 4, 'O'], [4, 6, 'AGE_1'], [6, 20, 'O'], [...   \n",
       "...                                                  ...   \n",
       "43496  [[0, 6, 'O'], [6, 12, 'FIRSTNAME_1'], [12, 66,...   \n",
       "43497  [[0, 5, 'O'], [5, 10, 'FIRSTNAME_1'], [10, 159...   \n",
       "43498  [[0, 5, 'O'], [5, 11, 'SEX_1'], [11, 15, 'O'],...   \n",
       "43499  [[0, 6, 'O'], [6, 10, 'FIRSTNAME_1'], [10, 137...   \n",
       "43500  [[0, 70, 'O'], [70, 86, 'MASKEDNUMBER_1'], [86...   \n",
       "\n",
       "                                              bio_labels  \\\n",
       "0      [O, O, O, O, O, O, O, O, O, O, O, O, O, B-PHON...   \n",
       "1      [O, B-FIRSTNAME, I-FIRSTNAME, O, O, O, O, O, O...   \n",
       "2      [B-FIRSTNAME, I-FIRSTNAME, O, O, O, O, O, O, O...   \n",
       "3      [O, O, O, B-BUILDINGNUMBER, I-BUILDINGNUMBER, ...   \n",
       "4      [O, B-AGE, O, O, O, B-BUILDINGNUMBER, I-BUILDI...   \n",
       "...                                                  ...   \n",
       "43496  [O, B-FIRSTNAME, O, O, O, O, O, O, O, O, B-DAT...   \n",
       "43497  [O, B-FIRSTNAME, I-FIRSTNAME, O, O, O, O, O, O...   \n",
       "43498  [O, B-SEX, O, B-ZIPCODE, I-ZIPCODE, I-ZIPCODE,...   \n",
       "43499  [O, B-FIRSTNAME, O, O, O, O, O, O, O, O, O, O,...   \n",
       "43500  [O, O, O, O, O, O, O, O, O, O, O, O, B-MASKEDN...   \n",
       "\n",
       "                                          tokenised_text  \n",
       "0      [a, student, ', s, assessment, was, found, on,...  \n",
       "1      [dear, om, ##er, ,, as, per, our, records, ,, ...  \n",
       "2      [kat, ##tie, could, you, please, share, your, ...  \n",
       "3      [emergency, supplies, in, 1635, ##6, need, a, ...  \n",
       "4      [the, 88, old, child, at, 58, ##6, ##2, ,, has...  \n",
       "...                                                  ...  \n",
       "43496  [hello, nellie, ,, your, cognitive, therapy, a...  \n",
       "43497  [dear, ja, ##lon, ,, we, appreciate, your, act...  \n",
       "43498  [dear, female, at, 323, ##6, ##3, -, 277, ##9,...  \n",
       "43499  [hello, tito, ,, we, encourage, you, to, pay, ...  \n",
       "43500  [due, to, suspect, transactions, ,, the, payme...  \n",
       "\n",
       "[43501 rows x 6 columns]"
      ]
     },
     "execution_count": 15,
     "metadata": {},
     "output_type": "execute_result"
    }
   ],
   "source": [
    "df"
   ]
  },
  {
   "cell_type": "markdown",
   "id": "0ef78032",
   "metadata": {
    "papermill": {
     "duration": 0.008556,
     "end_time": "2025-08-06T11:44:35.106502",
     "exception": false,
     "start_time": "2025-08-06T11:44:35.097946",
     "status": "completed"
    },
    "tags": []
   },
   "source": [
    "Add char_length and token_length columns for visualizations."
   ]
  },
  {
   "cell_type": "code",
   "execution_count": 16,
   "id": "0bdda886",
   "metadata": {
    "execution": {
     "iopub.execute_input": "2025-08-06T11:44:35.124447Z",
     "iopub.status.busy": "2025-08-06T11:44:35.124260Z",
     "iopub.status.idle": "2025-08-06T11:44:35.157044Z",
     "shell.execute_reply": "2025-08-06T11:44:35.156480Z"
    },
    "papermill": {
     "duration": 0.042972,
     "end_time": "2025-08-06T11:44:35.158097",
     "exception": false,
     "start_time": "2025-08-06T11:44:35.115125",
     "status": "completed"
    },
    "tags": []
   },
   "outputs": [],
   "source": [
    "df[\"char_length\"] = df[\"unmasked_text\"].str.len()\n",
    "df[\"token_length\"] = df[\"tokenised_text\"].apply(len)"
   ]
  },
  {
   "cell_type": "code",
   "execution_count": 17,
   "id": "7fdc3b07",
   "metadata": {
    "execution": {
     "iopub.execute_input": "2025-08-06T11:44:35.176862Z",
     "iopub.status.busy": "2025-08-06T11:44:35.176266Z",
     "iopub.status.idle": "2025-08-06T11:44:35.694243Z",
     "shell.execute_reply": "2025-08-06T11:44:35.693563Z"
    },
    "papermill": {
     "duration": 0.528329,
     "end_time": "2025-08-06T11:44:35.695340",
     "exception": false,
     "start_time": "2025-08-06T11:44:35.167011",
     "status": "completed"
    },
    "tags": []
   },
   "outputs": [
    {
     "data": {
      "text/plain": [
       "array([[<Axes: title={'center': 'char_length'}>,\n",
       "        <Axes: title={'center': 'token_length'}>]], dtype=object)"
      ]
     },
     "execution_count": 17,
     "metadata": {},
     "output_type": "execute_result"
    },
    {
     "data": {
      "image/png": "[encoded data removed]",
      "text/plain": [
       "<Figure size 1200x400 with 2 Axes>"
      ]
     },
     "metadata": {},
     "output_type": "display_data"
    }
   ],
   "source": [
    "df[[\"char_length\",\"token_length\"]].hist(bins=50, figsize=(12,4))\n"
   ]
  },
  {
   "cell_type": "markdown",
   "id": "c05f55cb",
   "metadata": {
    "papermill": {
     "duration": 0.009556,
     "end_time": "2025-08-06T11:44:35.714840",
     "exception": false,
     "start_time": "2025-08-06T11:44:35.705284",
     "status": "completed"
    },
    "tags": []
   },
   "source": [
    "We can spot that most samples has a token_length lower than 150 and char length lower than 500 chars."
   ]
  },
  {
   "cell_type": "markdown",
   "id": "0188b270",
   "metadata": {
    "papermill": {
     "duration": 0.009019,
     "end_time": "2025-08-06T11:44:35.733303",
     "exception": false,
     "start_time": "2025-08-06T11:44:35.724284",
     "status": "completed"
    },
    "tags": []
   },
   "source": [
    "Visualize the most used k Entities found in the dataset."
   ]
  },
  {
   "cell_type": "code",
   "execution_count": 18,
   "id": "09f61c1d",
   "metadata": {
    "execution": {
     "iopub.execute_input": "2025-08-06T11:44:35.752493Z",
     "iopub.status.busy": "2025-08-06T11:44:35.752271Z",
     "iopub.status.idle": "2025-08-06T11:44:35.755382Z",
     "shell.execute_reply": "2025-08-06T11:44:35.754729Z"
    },
    "papermill": {
     "duration": 0.014008,
     "end_time": "2025-08-06T11:44:35.756458",
     "exception": false,
     "start_time": "2025-08-06T11:44:35.742450",
     "status": "completed"
    },
    "tags": []
   },
   "outputs": [],
   "source": [
    "k = 20"
   ]
  },
  {
   "cell_type": "code",
   "execution_count": 19,
   "id": "a1daab20",
   "metadata": {
    "execution": {
     "iopub.execute_input": "2025-08-06T11:44:35.776017Z",
     "iopub.status.busy": "2025-08-06T11:44:35.775490Z",
     "iopub.status.idle": "2025-08-06T11:44:35.926476Z",
     "shell.execute_reply": "2025-08-06T11:44:35.925798Z"
    },
    "papermill": {
     "duration": 0.161847,
     "end_time": "2025-08-06T11:44:35.927601",
     "exception": false,
     "start_time": "2025-08-06T11:44:35.765754",
     "status": "completed"
    },
    "tags": []
   },
   "outputs": [],
   "source": [
    "all_labels = [label for row in df[\"bio_labels\"] for label in row if label != \"O\"]\n",
    "label_counts = dict(Counter(all_labels).most_common(k))\n",
    "label_counts = dict(sorted(label_counts.items(), key=lambda x: x[1], reverse=True))"
   ]
  },
  {
   "cell_type": "code",
   "execution_count": 20,
   "id": "d977033f",
   "metadata": {
    "execution": {
     "iopub.execute_input": "2025-08-06T11:44:35.946912Z",
     "iopub.status.busy": "2025-08-06T11:44:35.946729Z",
     "iopub.status.idle": "2025-08-06T11:44:35.950967Z",
     "shell.execute_reply": "2025-08-06T11:44:35.950466Z"
    },
    "papermill": {
     "duration": 0.015068,
     "end_time": "2025-08-06T11:44:35.951985",
     "exception": false,
     "start_time": "2025-08-06T11:44:35.936917",
     "status": "completed"
    },
    "tags": []
   },
   "outputs": [
    {
     "data": {
      "text/plain": [
       "{'I-USERAGENT': 89432,\n",
       " 'I-IPV6': 70585,\n",
       " 'I-BITCOINADDRESS': 53492,\n",
       " 'I-ETHEREUMADDRESS': 47560,\n",
       " 'I-IP': 36166,\n",
       " 'I-EMAIL': 34344,\n",
       " 'I-URL': 28220,\n",
       " 'I-IBAN': 27658,\n",
       " 'I-CREDITCARDNUMBER': 22036,\n",
       " 'I-DATE': 21905,\n",
       " 'I-PHONEIMEI': 20351,\n",
       " 'I-PASSWORD': 19907,\n",
       " 'I-NEARBYGPSCOORDINATE': 18824,\n",
       " 'I-MASKEDNUMBER': 17981,\n",
       " 'I-PHONENUMBER': 17379,\n",
       " 'I-LITECOINADDRESS': 16800,\n",
       " 'I-IPV4': 16322,\n",
       " 'I-MAC': 14053,\n",
       " 'B-FIRSTNAME': 13286,\n",
       " 'I-COMPANYNAME': 11875}"
      ]
     },
     "execution_count": 20,
     "metadata": {},
     "output_type": "execute_result"
    }
   ],
   "source": [
    "label_counts"
   ]
  },
  {
   "cell_type": "code",
   "execution_count": 21,
   "id": "a9f4ec19",
   "metadata": {
    "execution": {
     "iopub.execute_input": "2025-08-06T11:44:35.971496Z",
     "iopub.status.busy": "2025-08-06T11:44:35.971324Z",
     "iopub.status.idle": "2025-08-06T11:44:36.311072Z",
     "shell.execute_reply": "2025-08-06T11:44:36.310432Z"
    },
    "papermill": {
     "duration": 0.35206,
     "end_time": "2025-08-06T11:44:36.313492",
     "exception": false,
     "start_time": "2025-08-06T11:44:35.961432",
     "status": "completed"
    },
    "tags": []
   },
   "outputs": [
    {
     "data": {
      "image/png": "[encoded data removed]",
      "text/plain": [
       "<Figure size 3000x1500 with 1 Axes>"
      ]
     },
     "metadata": {},
     "output_type": "display_data"
    }
   ],
   "source": [
    "plt.figure(figsize=(30,15))\n",
    "plt.bar(label_counts.keys(), label_counts.values())\n",
    "plt.xticks(rotation=45, fontsize=15)\n",
    "plt.title(\"PII Label Distribution\", fontsize=25)\n",
    "plt.show()\n"
   ]
  },
  {
   "cell_type": "markdown",
   "id": "34ae5ddf",
   "metadata": {
    "papermill": {
     "duration": 0.011283,
     "end_time": "2025-08-06T11:44:36.336834",
     "exception": false,
     "start_time": "2025-08-06T11:44:36.325551",
     "status": "completed"
    },
    "tags": []
   },
   "source": [
    "#### Show some samples"
   ]
  },
  {
   "cell_type": "code",
   "execution_count": 22,
   "id": "0e720fb7",
   "metadata": {
    "execution": {
     "iopub.execute_input": "2025-08-06T11:44:36.360112Z",
     "iopub.status.busy": "2025-08-06T11:44:36.359884Z",
     "iopub.status.idle": "2025-08-06T11:44:36.367093Z",
     "shell.execute_reply": "2025-08-06T11:44:36.366222Z"
    },
    "papermill": {
     "duration": 0.020229,
     "end_time": "2025-08-06T11:44:36.368217",
     "exception": false,
     "start_time": "2025-08-06T11:44:36.347988",
     "status": "completed"
    },
    "tags": []
   },
   "outputs": [
    {
     "name": "stdout",
     "output_type": "stream",
     "text": [
      "Masked Text: [IPV6_1] has been performing illegal transactions involving [BITCOINADDRESS_1]. As a [JOBTYPE_1], your help is needed in this matter.\n",
      "Unmasked Text: 750a:12ac:c7dc:88ee:51e5:57ee:59ca:09b7 has been performing illegal transactions involving 1XaB1qDUEneQ87PYHtMDXZwPj59xzP9DX7J7R4SM. As a Associate, your help is needed in this matter.\n",
      "PII Entities: {'[IPV6_1]': '750a:12ac:c7dc:88ee:51e5:57ee:59ca:09b7', '[BITCOINADDRESS_1]': '1XaB1qDUEneQ87PYHtMDXZwPj59xzP9DX7J7R4SM', '[JOBTYPE_1]': 'Associate'}\n",
      "================================================================================\n",
      "\n",
      "\n",
      "\n",
      "Masked Text: Dr. [LASTNAME_1], you need to check the data from the device with MAC address: [MAC_1].\n",
      "Unmasked Text: Dr. Heller-Russel, you need to check the data from the device with MAC address: 46:86:ea:1a:b8:93.\n",
      "PII Entities: {'[LASTNAME_1]': 'Heller-Russel', '[MAC_1]': '46:86:ea:1a:b8:93'}\n",
      "================================================================================\n",
      "\n",
      "\n",
      "\n",
      "Masked Text: Regarding the supply chain network, I've noticed discrepancies in the Litecoin Address paired with [IPV6_1]. Can we confirm this with [USERNAME_1]?\n",
      "Unmasked Text: Regarding the supply chain network, I've noticed discrepancies in the Litecoin Address paired with eeba:9bdb:da3f:365e:da9d:1770:953e:94cc. Can we confirm this with Dallin.Will13?\n",
      "PII Entities: {'[IPV6_1]': 'eeba:9bdb:da3f:365e:da9d:1770:953e:94cc', '[USERNAME_1]': 'Dallin.Will13'}\n",
      "================================================================================\n",
      "\n",
      "\n",
      "\n"
     ]
    }
   ],
   "source": [
    "sample = df.sample(3, random_state=42)\n",
    "for i, row in sample.iterrows():\n",
    "    print(\"Masked Text:\", row[\"masked_text\"])\n",
    "    print(\"Unmasked Text:\", row[\"unmasked_text\"])\n",
    "    print(\"PII Entities:\", row[\"privacy_mask\"])\n",
    "    print(\"=\"*80)\n",
    "    print('\\n\\n')\n"
   ]
  },
  {
   "cell_type": "markdown",
   "id": "5e2bfee3",
   "metadata": {
    "papermill": {
     "duration": 0.011189,
     "end_time": "2025-08-06T11:44:36.391221",
     "exception": false,
     "start_time": "2025-08-06T11:44:36.380032",
     "status": "completed"
    },
    "tags": []
   },
   "source": [
    "## Data preprocessing"
   ]
  },
  {
   "cell_type": "code",
   "execution_count": 23,
   "id": "707dc0c0",
   "metadata": {
    "execution": {
     "iopub.execute_input": "2025-08-06T11:44:36.414657Z",
     "iopub.status.busy": "2025-08-06T11:44:36.414436Z",
     "iopub.status.idle": "2025-08-06T11:44:36.475307Z",
     "shell.execute_reply": "2025-08-06T11:44:36.474751Z"
    },
    "papermill": {
     "duration": 0.073957,
     "end_time": "2025-08-06T11:44:36.476439",
     "exception": false,
     "start_time": "2025-08-06T11:44:36.402482",
     "status": "completed"
    },
    "tags": []
   },
   "outputs": [],
   "source": [
    "device = torch.device(\"cuda\" if torch.cuda.is_available() else \"cpu\")"
   ]
  },
  {
   "cell_type": "markdown",
   "id": "3d02776e",
   "metadata": {
    "papermill": {
     "duration": 0.011319,
     "end_time": "2025-08-06T11:44:36.499493",
     "exception": false,
     "start_time": "2025-08-06T11:44:36.488174",
     "status": "completed"
    },
    "tags": []
   },
   "source": [
    "The dataset was tokenized using bert-base-uncased tokenizer, so I will use it as well for inference. Also it will be used to get the token2id vocab."
   ]
  },
  {
   "cell_type": "code",
   "execution_count": 24,
   "id": "78031d32",
   "metadata": {
    "execution": {
     "iopub.execute_input": "2025-08-06T11:44:36.522977Z",
     "iopub.status.busy": "2025-08-06T11:44:36.522770Z",
     "iopub.status.idle": "2025-08-06T11:44:40.351834Z",
     "shell.execute_reply": "2025-08-06T11:44:40.351222Z"
    },
    "papermill": {
     "duration": 3.842388,
     "end_time": "2025-08-06T11:44:40.353179",
     "exception": false,
     "start_time": "2025-08-06T11:44:36.510791",
     "status": "completed"
    },
    "tags": []
   },
   "outputs": [
    {
     "data": {
      "application/vnd.jupyter.widget-view+json": {
       "model_id": "8d3d4a8735cf4699ab04c76a83d80087",
       "version_major": 2,
       "version_minor": 0
      },
      "text/plain": [
       "tokenizer_config.json:   0%|          | 0.00/48.0 [00:00<?, ?B/s]"
      ]
     },
     "metadata": {},
     "output_type": "display_data"
    },
    {
     "data": {
      "application/vnd.jupyter.widget-view+json": {
       "model_id": "e336ab9d17c54450bf0a4862aaf1a868",
       "version_major": 2,
       "version_minor": 0
      },
      "text/plain": [
       "vocab.txt:   0%|          | 0.00/232k [00:00<?, ?B/s]"
      ]
     },
     "metadata": {},
     "output_type": "display_data"
    },
    {
     "data": {
      "application/vnd.jupyter.widget-view+json": {
       "model_id": "9738dd8c0caf4bddb58e9d72dcc02fcc",
       "version_major": 2,
       "version_minor": 0
      },
      "text/plain": [
       "tokenizer.json:   0%|          | 0.00/466k [00:00<?, ?B/s]"
      ]
     },
     "metadata": {},
     "output_type": "display_data"
    },
    {
     "data": {
      "application/vnd.jupyter.widget-view+json": {
       "model_id": "4671e25ac19f4ac6bae7a283f6c9024b",
       "version_major": 2,
       "version_minor": 0
      },
      "text/plain": [
       "config.json:   0%|          | 0.00/570 [00:00<?, ?B/s]"
      ]
     },
     "metadata": {},
     "output_type": "display_data"
    }
   ],
   "source": [
    "tokenizer = BertTokenizerFast.from_pretrained(\"bert-base-uncased\")"
   ]
  },
  {
   "cell_type": "code",
   "execution_count": 25,
   "id": "8f87a0c4",
   "metadata": {
    "execution": {
     "iopub.execute_input": "2025-08-06T11:44:40.379734Z",
     "iopub.status.busy": "2025-08-06T11:44:40.379267Z",
     "iopub.status.idle": "2025-08-06T11:44:40.396115Z",
     "shell.execute_reply": "2025-08-06T11:44:40.395435Z"
    },
    "papermill": {
     "duration": 0.031331,
     "end_time": "2025-08-06T11:44:40.397223",
     "exception": false,
     "start_time": "2025-08-06T11:44:40.365892",
     "status": "completed"
    },
    "tags": []
   },
   "outputs": [],
   "source": [
    "token2id = tokenizer.get_vocab()"
   ]
  },
  {
   "cell_type": "code",
   "execution_count": 26,
   "id": "81eb974a",
   "metadata": {
    "execution": {
     "iopub.execute_input": "2025-08-06T11:44:40.421566Z",
     "iopub.status.busy": "2025-08-06T11:44:40.421356Z",
     "iopub.status.idle": "2025-08-06T11:44:40.425666Z",
     "shell.execute_reply": "2025-08-06T11:44:40.425000Z"
    },
    "papermill": {
     "duration": 0.017717,
     "end_time": "2025-08-06T11:44:40.426862",
     "exception": false,
     "start_time": "2025-08-06T11:44:40.409145",
     "status": "completed"
    },
    "tags": []
   },
   "outputs": [
    {
     "data": {
      "text/plain": [
       "30522"
      ]
     },
     "execution_count": 26,
     "metadata": {},
     "output_type": "execute_result"
    }
   ],
   "source": [
    "len(token2id)"
   ]
  },
  {
   "cell_type": "markdown",
   "id": "bc7e420d",
   "metadata": {
    "papermill": {
     "duration": 0.011335,
     "end_time": "2025-08-06T11:44:40.449979",
     "exception": false,
     "start_time": "2025-08-06T11:44:40.438644",
     "status": "completed"
    },
    "tags": []
   },
   "source": [
    "Create label2id mapping, and use -100 as our pad label"
   ]
  },
  {
   "cell_type": "code",
   "execution_count": 27,
   "id": "d36ae73f",
   "metadata": {
    "execution": {
     "iopub.execute_input": "2025-08-06T11:44:40.474288Z",
     "iopub.status.busy": "2025-08-06T11:44:40.474106Z",
     "iopub.status.idle": "2025-08-06T11:44:40.598037Z",
     "shell.execute_reply": "2025-08-06T11:44:40.597545Z"
    },
    "papermill": {
     "duration": 0.137217,
     "end_time": "2025-08-06T11:44:40.598957",
     "exception": false,
     "start_time": "2025-08-06T11:44:40.461740",
     "status": "completed"
    },
    "tags": []
   },
   "outputs": [],
   "source": [
    "all_labels = sorted(set(lbl for row in df[\"bio_labels\"] for lbl in row))\n",
    "label2id = {lbl: idx for idx, lbl in enumerate(all_labels)}\n",
    "PAD_LABEL = -100 "
   ]
  },
  {
   "cell_type": "code",
   "execution_count": 28,
   "id": "d556f9d9",
   "metadata": {
    "execution": {
     "iopub.execute_input": "2025-08-06T11:44:40.623189Z",
     "iopub.status.busy": "2025-08-06T11:44:40.622605Z",
     "iopub.status.idle": "2025-08-06T11:44:40.628060Z",
     "shell.execute_reply": "2025-08-06T11:44:40.627395Z"
    },
    "papermill": {
     "duration": 0.018651,
     "end_time": "2025-08-06T11:44:40.629150",
     "exception": false,
     "start_time": "2025-08-06T11:44:40.610499",
     "status": "completed"
    },
    "tags": []
   },
   "outputs": [
    {
     "data": {
      "text/plain": [
       "{'B-ACCOUNTNAME': 0,\n",
       " 'B-ACCOUNTNUMBER': 1,\n",
       " 'B-AGE': 2,\n",
       " 'B-AMOUNT': 3,\n",
       " 'B-BIC': 4,\n",
       " 'B-BITCOINADDRESS': 5,\n",
       " 'B-BUILDINGNUMBER': 6,\n",
       " 'B-CITY': 7,\n",
       " 'B-COMPANYNAME': 8,\n",
       " 'B-COUNTY': 9,\n",
       " 'B-CREDITCARDCVV': 10,\n",
       " 'B-CREDITCARDISSUER': 11,\n",
       " 'B-CREDITCARDNUMBER': 12,\n",
       " 'B-CURRENCY': 13,\n",
       " 'B-CURRENCYCODE': 14,\n",
       " 'B-CURRENCYNAME': 15,\n",
       " 'B-CURRENCYSYMBOL': 16,\n",
       " 'B-DATE': 17,\n",
       " 'B-DOB': 18,\n",
       " 'B-EMAIL': 19,\n",
       " 'B-ETHEREUMADDRESS': 20,\n",
       " 'B-EYECOLOR': 21,\n",
       " 'B-FIRSTNAME': 22,\n",
       " 'B-GENDER': 23,\n",
       " 'B-HEIGHT': 24,\n",
       " 'B-IBAN': 25,\n",
       " 'B-IP': 26,\n",
       " 'B-IPV4': 27,\n",
       " 'B-IPV6': 28,\n",
       " 'B-JOBAREA': 29,\n",
       " 'B-JOBTITLE': 30,\n",
       " 'B-JOBTYPE': 31,\n",
       " 'B-LASTNAME': 32,\n",
       " 'B-LITECOINADDRESS': 33,\n",
       " 'B-MAC': 34,\n",
       " 'B-MASKEDNUMBER': 35,\n",
       " 'B-MIDDLENAME': 36,\n",
       " 'B-NEARBYGPSCOORDINATE': 37,\n",
       " 'B-ORDINALDIRECTION': 38,\n",
       " 'B-PASSWORD': 39,\n",
       " 'B-PHONEIMEI': 40,\n",
       " 'B-PHONENUMBER': 41,\n",
       " 'B-PIN': 42,\n",
       " 'B-PREFIX': 43,\n",
       " 'B-SECONDARYADDRESS': 44,\n",
       " 'B-SEX': 45,\n",
       " 'B-SSN': 46,\n",
       " 'B-STATE': 47,\n",
       " 'B-STREET': 48,\n",
       " 'B-TIME': 49,\n",
       " 'B-URL': 50,\n",
       " 'B-USERAGENT': 51,\n",
       " 'B-USERNAME': 52,\n",
       " 'B-VEHICLEVIN': 53,\n",
       " 'B-VEHICLEVRM': 54,\n",
       " 'B-ZIPCODE': 55,\n",
       " 'I-ACCOUNTNAME': 56,\n",
       " 'I-ACCOUNTNUMBER': 57,\n",
       " 'I-AGE': 58,\n",
       " 'I-AMOUNT': 59,\n",
       " 'I-BIC': 60,\n",
       " 'I-BITCOINADDRESS': 61,\n",
       " 'I-BUILDINGNUMBER': 62,\n",
       " 'I-CITY': 63,\n",
       " 'I-COMPANYNAME': 64,\n",
       " 'I-COUNTY': 65,\n",
       " 'I-CREDITCARDCVV': 66,\n",
       " 'I-CREDITCARDISSUER': 67,\n",
       " 'I-CREDITCARDNUMBER': 68,\n",
       " 'I-CURRENCY': 69,\n",
       " 'I-CURRENCYCODE': 70,\n",
       " 'I-CURRENCYNAME': 71,\n",
       " 'I-CURRENCYSYMBOL': 72,\n",
       " 'I-DATE': 73,\n",
       " 'I-DOB': 74,\n",
       " 'I-EMAIL': 75,\n",
       " 'I-ETHEREUMADDRESS': 76,\n",
       " 'I-EYECOLOR': 77,\n",
       " 'I-FIRSTNAME': 78,\n",
       " 'I-GENDER': 79,\n",
       " 'I-HEIGHT': 80,\n",
       " 'I-IBAN': 81,\n",
       " 'I-IP': 82,\n",
       " 'I-IPV4': 83,\n",
       " 'I-IPV6': 84,\n",
       " 'I-JOBAREA': 85,\n",
       " 'I-JOBTITLE': 86,\n",
       " 'I-JOBTYPE': 87,\n",
       " 'I-LASTNAME': 88,\n",
       " 'I-LITECOINADDRESS': 89,\n",
       " 'I-MAC': 90,\n",
       " 'I-MASKEDNUMBER': 91,\n",
       " 'I-MIDDLENAME': 92,\n",
       " 'I-NEARBYGPSCOORDINATE': 93,\n",
       " 'I-PASSWORD': 94,\n",
       " 'I-PHONEIMEI': 95,\n",
       " 'I-PHONENUMBER': 96,\n",
       " 'I-PIN': 97,\n",
       " 'I-PREFIX': 98,\n",
       " 'I-SECONDARYADDRESS': 99,\n",
       " 'I-SSN': 100,\n",
       " 'I-STATE': 101,\n",
       " 'I-STREET': 102,\n",
       " 'I-TIME': 103,\n",
       " 'I-URL': 104,\n",
       " 'I-USERAGENT': 105,\n",
       " 'I-USERNAME': 106,\n",
       " 'I-VEHICLEVIN': 107,\n",
       " 'I-VEHICLEVRM': 108,\n",
       " 'I-ZIPCODE': 109,\n",
       " 'O': 110}"
      ]
     },
     "execution_count": 28,
     "metadata": {},
     "output_type": "execute_result"
    }
   ],
   "source": [
    "label2id"
   ]
  },
  {
   "cell_type": "markdown",
   "id": "14984bbf",
   "metadata": {
    "papermill": {
     "duration": 0.01165,
     "end_time": "2025-08-06T11:44:40.652662",
     "exception": false,
     "start_time": "2025-08-06T11:44:40.641012",
     "status": "completed"
    },
    "tags": []
   },
   "source": [
    "Convert samples sequences to ID lists"
   ]
  },
  {
   "cell_type": "markdown",
   "id": "e3a0715c",
   "metadata": {
    "papermill": {
     "duration": 0.011645,
     "end_time": "2025-08-06T11:44:40.676059",
     "exception": false,
     "start_time": "2025-08-06T11:44:40.664414",
     "status": "completed"
    },
    "tags": []
   },
   "source": [
    "\n",
    "**The next code works as following:**\n",
    "\n",
    "*Original tokens & labels*\n",
    "\n",
    "| Tokens                    | Labels                |\n",
    "| ------------------------- | --------------------- |\n",
    "| `I` `live` `in` `Paris`   | `O` `O` `O` `B-CITY`  |\n",
    "| `My` `phone` `is` `12345` | `O` `O` `O` `B-PHONE` |\n",
    "\n",
    "---\n",
    "\n",
    "*Converted IDs*\n",
    "\n",
    "```text\n",
    "X_ids = [\n",
    "    [2, 3, 4, 5],     # 'I' -> 2, 'live' -> 3, 'in' -> 4, 'Paris' -> 5\n",
    "    [6, 7, 8, 9]      # 'My' -> 6, 'phone' -> 7, 'is' -> 8, '12345' -> 9\n",
    "]\n",
    "\n",
    "y_ids = [\n",
    "    [0, 0, 0, 1],     # 'O' -> 0, 'B-CITY' -> 1\n",
    "    [0, 0, 0, 2]      # 'O' -> 0, 'B-PHONE' -> 2\n",
    "]\n",
    "```\n",
    "\n"
   ]
  },
  {
   "cell_type": "code",
   "execution_count": 29,
   "id": "b7e152cb",
   "metadata": {
    "execution": {
     "iopub.execute_input": "2025-08-06T11:44:40.700316Z",
     "iopub.status.busy": "2025-08-06T11:44:40.700111Z",
     "iopub.status.idle": "2025-08-06T11:44:40.703291Z",
     "shell.execute_reply": "2025-08-06T11:44:40.702597Z"
    },
    "papermill": {
     "duration": 0.016527,
     "end_time": "2025-08-06T11:44:40.704335",
     "exception": false,
     "start_time": "2025-08-06T11:44:40.687808",
     "status": "completed"
    },
    "tags": []
   },
   "outputs": [],
   "source": [
    "PAD_INPUT = token2id[\"[PAD]\"]\n",
    "UNK_INPUT = token2id[\"[UNK]\"]"
   ]
  },
  {
   "cell_type": "code",
   "execution_count": 30,
   "id": "e84a97e0",
   "metadata": {
    "execution": {
     "iopub.execute_input": "2025-08-06T11:44:40.728881Z",
     "iopub.status.busy": "2025-08-06T11:44:40.728707Z",
     "iopub.status.idle": "2025-08-06T11:44:41.407814Z",
     "shell.execute_reply": "2025-08-06T11:44:41.407206Z"
    },
    "papermill": {
     "duration": 0.69287,
     "end_time": "2025-08-06T11:44:41.409127",
     "exception": false,
     "start_time": "2025-08-06T11:44:40.716257",
     "status": "completed"
    },
    "tags": []
   },
   "outputs": [],
   "source": [
    "X_ids = [[token2id.get(tok, UNK_INPUT) for tok in row] for row in df[\"tokenised_text\"]]\n",
    "y_ids = [[label2id[label] for label in row] for row in df[\"bio_labels\"]]"
   ]
  },
  {
   "cell_type": "markdown",
   "id": "7157c6c8",
   "metadata": {
    "papermill": {
     "duration": 0.011857,
     "end_time": "2025-08-06T11:44:41.433378",
     "exception": false,
     "start_time": "2025-08-06T11:44:41.421521",
     "status": "completed"
    },
    "tags": []
   },
   "source": [
    "Based on the analysis, The following max_len will be better for the model trining as most of the samples does not exceed it."
   ]
  },
  {
   "cell_type": "code",
   "execution_count": 31,
   "id": "1fd07e94",
   "metadata": {
    "execution": {
     "iopub.execute_input": "2025-08-06T11:44:41.457812Z",
     "iopub.status.busy": "2025-08-06T11:44:41.457567Z",
     "iopub.status.idle": "2025-08-06T11:44:41.460705Z",
     "shell.execute_reply": "2025-08-06T11:44:41.460174Z"
    },
    "papermill": {
     "duration": 0.016507,
     "end_time": "2025-08-06T11:44:41.461650",
     "exception": false,
     "start_time": "2025-08-06T11:44:41.445143",
     "status": "completed"
    },
    "tags": []
   },
   "outputs": [],
   "source": [
    "MAX_LEN = 256 "
   ]
  },
  {
   "cell_type": "markdown",
   "id": "e941cc2d",
   "metadata": {
    "papermill": {
     "duration": 0.011734,
     "end_time": "2025-08-06T11:44:41.485220",
     "exception": false,
     "start_time": "2025-08-06T11:44:41.473486",
     "status": "completed"
    },
    "tags": []
   },
   "source": [
    "Apply padding to the ids sequences to produce a X_paaded and a y_padded tensors that has a shape of (samples_number x MAX_LEN)"
   ]
  },
  {
   "cell_type": "code",
   "execution_count": 32,
   "id": "391ac71f",
   "metadata": {
    "execution": {
     "iopub.execute_input": "2025-08-06T11:44:41.509751Z",
     "iopub.status.busy": "2025-08-06T11:44:41.509351Z",
     "iopub.status.idle": "2025-08-06T11:44:41.873090Z",
     "shell.execute_reply": "2025-08-06T11:44:41.872487Z"
    },
    "papermill": {
     "duration": 0.377428,
     "end_time": "2025-08-06T11:44:41.874428",
     "exception": false,
     "start_time": "2025-08-06T11:44:41.497000",
     "status": "completed"
    },
    "tags": []
   },
   "outputs": [],
   "source": [
    "X_padded = np.full((len(X_ids), MAX_LEN), PAD_INPUT, dtype=np.int64)\n",
    "y_padded = np.full((len(y_ids), MAX_LEN), PAD_LABEL, dtype=np.int64)\n",
    "\n",
    "for i, (x_seq, y_seq) in enumerate(zip(X_ids, y_ids)):\n",
    "    X_padded[i, :len(x_seq[:MAX_LEN])] = x_seq[:MAX_LEN]\n",
    "    y_padded[i, :len(y_seq[:MAX_LEN])] = y_seq[:MAX_LEN]\n"
   ]
  },
  {
   "cell_type": "markdown",
   "id": "691d4f9f",
   "metadata": {
    "papermill": {
     "duration": 0.011724,
     "end_time": "2025-08-06T11:44:41.898710",
     "exception": false,
     "start_time": "2025-08-06T11:44:41.886986",
     "status": "completed"
    },
    "tags": []
   },
   "source": [
    "After thatm we need to convert numpy.ndarray to torch.Tensor, to apply the TensorDataset, then random_split."
   ]
  },
  {
   "cell_type": "code",
   "execution_count": 33,
   "id": "8460f0b3",
   "metadata": {
    "execution": {
     "iopub.execute_input": "2025-08-06T11:44:41.923546Z",
     "iopub.status.busy": "2025-08-06T11:44:41.923079Z",
     "iopub.status.idle": "2025-08-06T11:44:41.927414Z",
     "shell.execute_reply": "2025-08-06T11:44:41.926730Z"
    },
    "papermill": {
     "duration": 0.018171,
     "end_time": "2025-08-06T11:44:41.928586",
     "exception": false,
     "start_time": "2025-08-06T11:44:41.910415",
     "status": "completed"
    },
    "tags": []
   },
   "outputs": [
    {
     "data": {
      "text/plain": [
       "numpy.ndarray"
      ]
     },
     "execution_count": 33,
     "metadata": {},
     "output_type": "execute_result"
    }
   ],
   "source": [
    "type(X_padded)"
   ]
  },
  {
   "cell_type": "code",
   "execution_count": 34,
   "id": "74ee0336",
   "metadata": {
    "execution": {
     "iopub.execute_input": "2025-08-06T11:44:41.953297Z",
     "iopub.status.busy": "2025-08-06T11:44:41.952917Z",
     "iopub.status.idle": "2025-08-06T11:44:42.046295Z",
     "shell.execute_reply": "2025-08-06T11:44:42.045496Z"
    },
    "papermill": {
     "duration": 0.107273,
     "end_time": "2025-08-06T11:44:42.047754",
     "exception": false,
     "start_time": "2025-08-06T11:44:41.940481",
     "status": "completed"
    },
    "tags": []
   },
   "outputs": [],
   "source": [
    "X_tensor = torch.tensor(X_padded, dtype=torch.long)\n",
    "y_tensor = torch.tensor(y_padded, dtype=torch.long)"
   ]
  },
  {
   "cell_type": "code",
   "execution_count": 35,
   "id": "34543b58",
   "metadata": {
    "execution": {
     "iopub.execute_input": "2025-08-06T11:44:42.073801Z",
     "iopub.status.busy": "2025-08-06T11:44:42.073556Z",
     "iopub.status.idle": "2025-08-06T11:44:42.077791Z",
     "shell.execute_reply": "2025-08-06T11:44:42.077106Z"
    },
    "papermill": {
     "duration": 0.01774,
     "end_time": "2025-08-06T11:44:42.078884",
     "exception": false,
     "start_time": "2025-08-06T11:44:42.061144",
     "status": "completed"
    },
    "tags": []
   },
   "outputs": [
    {
     "data": {
      "text/plain": [
       "torch.Tensor"
      ]
     },
     "execution_count": 35,
     "metadata": {},
     "output_type": "execute_result"
    }
   ],
   "source": [
    "type(X_tensor)"
   ]
  },
  {
   "cell_type": "markdown",
   "id": "719fcf25",
   "metadata": {
    "papermill": {
     "duration": 0.011896,
     "end_time": "2025-08-06T11:44:42.102608",
     "exception": false,
     "start_time": "2025-08-06T11:44:42.090712",
     "status": "completed"
    },
    "tags": []
   },
   "source": [
    "split into train and test splits."
   ]
  },
  {
   "cell_type": "code",
   "execution_count": 36,
   "id": "0b0cb172",
   "metadata": {
    "execution": {
     "iopub.execute_input": "2025-08-06T11:44:42.127181Z",
     "iopub.status.busy": "2025-08-06T11:44:42.126987Z",
     "iopub.status.idle": "2025-08-06T11:44:42.143757Z",
     "shell.execute_reply": "2025-08-06T11:44:42.143224Z"
    },
    "papermill": {
     "duration": 0.030356,
     "end_time": "2025-08-06T11:44:42.144801",
     "exception": false,
     "start_time": "2025-08-06T11:44:42.114445",
     "status": "completed"
    },
    "tags": []
   },
   "outputs": [],
   "source": [
    "dataset = TensorDataset(X_tensor, y_tensor)\n",
    "train_size = int(0.8 * len(dataset))\n",
    "test_size = len(dataset) - train_size\n",
    "train_dataset, test_dataset = random_split(dataset, [train_size, test_size])"
   ]
  },
  {
   "cell_type": "markdown",
   "id": "e0e5a75a",
   "metadata": {
    "papermill": {
     "duration": 0.012711,
     "end_time": "2025-08-06T11:44:42.171279",
     "exception": false,
     "start_time": "2025-08-06T11:44:42.158568",
     "status": "completed"
    },
    "tags": []
   },
   "source": [
    "Create Data loaders"
   ]
  },
  {
   "cell_type": "code",
   "execution_count": 37,
   "id": "fcf8681b",
   "metadata": {
    "execution": {
     "iopub.execute_input": "2025-08-06T11:44:42.195555Z",
     "iopub.status.busy": "2025-08-06T11:44:42.195355Z",
     "iopub.status.idle": "2025-08-06T11:44:42.199002Z",
     "shell.execute_reply": "2025-08-06T11:44:42.198334Z"
    },
    "papermill": {
     "duration": 0.017089,
     "end_time": "2025-08-06T11:44:42.200143",
     "exception": false,
     "start_time": "2025-08-06T11:44:42.183054",
     "status": "completed"
    },
    "tags": []
   },
   "outputs": [],
   "source": [
    "BATCH_SIZE = 32\n",
    "train_loader = DataLoader(train_dataset, batch_size=BATCH_SIZE, shuffle=True)\n",
    "test_loader = DataLoader(test_dataset, batch_size=BATCH_SIZE, shuffle=False)\n"
   ]
  },
  {
   "cell_type": "markdown",
   "id": "17499b1c",
   "metadata": {
    "papermill": {
     "duration": 0.011694,
     "end_time": "2025-08-06T11:44:42.223728",
     "exception": false,
     "start_time": "2025-08-06T11:44:42.212034",
     "status": "completed"
    },
    "tags": []
   },
   "source": [
    "## Model Selection"
   ]
  },
  {
   "cell_type": "markdown",
   "id": "88d1488d",
   "metadata": {
    "papermill": {
     "duration": 0.012241,
     "end_time": "2025-08-06T11:44:42.247799",
     "exception": false,
     "start_time": "2025-08-06T11:44:42.235558",
     "status": "completed"
    },
    "tags": []
   },
   "source": [
    "Inititalize The model, which is a bi LSTM model with a crf layer in it."
   ]
  },
  {
   "cell_type": "code",
   "execution_count": 38,
   "id": "6f3e0b18",
   "metadata": {
    "execution": {
     "iopub.execute_input": "2025-08-06T11:44:42.272330Z",
     "iopub.status.busy": "2025-08-06T11:44:42.272116Z",
     "iopub.status.idle": "2025-08-06T11:44:42.278189Z",
     "shell.execute_reply": "2025-08-06T11:44:42.277521Z"
    },
    "papermill": {
     "duration": 0.019689,
     "end_time": "2025-08-06T11:44:42.279281",
     "exception": false,
     "start_time": "2025-08-06T11:44:42.259592",
     "status": "completed"
    },
    "tags": []
   },
   "outputs": [],
   "source": [
    "class BiLSTMCRF(nn.Module):\n",
    "    def __init__(self, vocab_size, embedding_dim, hidden_dim, num_labels, pad_idx=0, pad_label_id=-100):\n",
    "        super().__init__()\n",
    "        self.pad_label_id = pad_label_id\n",
    "        \n",
    "        # Embedding layer for tokens\n",
    "        self.embedding = nn.Embedding(vocab_size, embedding_dim, padding_idx=pad_idx)\n",
    "        \n",
    "        # BiLSTM layer\n",
    "        self.lstm = nn.LSTM(\n",
    "            input_size=embedding_dim,\n",
    "            hidden_size=hidden_dim,\n",
    "            num_layers=1,\n",
    "            bidirectional=True,\n",
    "            batch_first=True\n",
    "        )\n",
    "        \n",
    "        # Linear layer for projecting to label space\n",
    "        self.hidden2tag = nn.Linear(hidden_dim * 2, num_labels)\n",
    "        \n",
    "        # CRF layer\n",
    "        self.crf = CRF(num_labels, batch_first=True)\n",
    "\n",
    "    def forward(self, input_ids, tags=None, mask=None):\n",
    "        embeds = self.embedding(input_ids)            # [B, L, E]\n",
    "        lstm_out, _ = self.lstm(embeds)               # [B, L, 2*H]\n",
    "        emissions = self.hidden2tag(lstm_out)         # [B, L, num_labels]\n",
    "        \n",
    "        if tags is not None:\n",
    "            # Convert ignored labels to 0 for CRF\n",
    "            crf_tags = tags.clone()\n",
    "            crf_tags[crf_tags == self.pad_label_id] = 0\n",
    "            \n",
    "            # Negative log likelihood\n",
    "            loss = -self.crf(emissions, crf_tags, mask=mask, reduction='mean')\n",
    "            return loss\n",
    "        else:\n",
    "            # Decode (Viterbi) paths\n",
    "            return self.crf.decode(emissions, mask=mask)\n"
   ]
  },
  {
   "cell_type": "markdown",
   "id": "c33af969",
   "metadata": {
    "papermill": {
     "duration": 0.012209,
     "end_time": "2025-08-06T11:44:42.303282",
     "exception": false,
     "start_time": "2025-08-06T11:44:42.291073",
     "status": "completed"
    },
    "tags": []
   },
   "source": [
    "Define main arguments for the model, including hidden_dim"
   ]
  },
  {
   "cell_type": "code",
   "execution_count": 39,
   "id": "d1c0f909",
   "metadata": {
    "execution": {
     "iopub.execute_input": "2025-08-06T11:44:42.327900Z",
     "iopub.status.busy": "2025-08-06T11:44:42.327663Z",
     "iopub.status.idle": "2025-08-06T11:44:42.330924Z",
     "shell.execute_reply": "2025-08-06T11:44:42.330248Z"
    },
    "papermill": {
     "duration": 0.016541,
     "end_time": "2025-08-06T11:44:42.331915",
     "exception": false,
     "start_time": "2025-08-06T11:44:42.315374",
     "status": "completed"
    },
    "tags": []
   },
   "outputs": [],
   "source": [
    "vocab_size = len(token2id)\n",
    "embedding_dim = 128\n",
    "hidden_dim = 256\n",
    "num_labels = len(label2id)"
   ]
  },
  {
   "cell_type": "code",
   "execution_count": 40,
   "id": "73415fd4",
   "metadata": {
    "execution": {
     "iopub.execute_input": "2025-08-06T11:44:42.356832Z",
     "iopub.status.busy": "2025-08-06T11:44:42.356308Z",
     "iopub.status.idle": "2025-08-06T11:44:42.360185Z",
     "shell.execute_reply": "2025-08-06T11:44:42.359674Z"
    },
    "papermill": {
     "duration": 0.01738,
     "end_time": "2025-08-06T11:44:42.361219",
     "exception": false,
     "start_time": "2025-08-06T11:44:42.343839",
     "status": "completed"
    },
    "tags": []
   },
   "outputs": [
    {
     "data": {
      "text/plain": [
       "111"
      ]
     },
     "execution_count": 40,
     "metadata": {},
     "output_type": "execute_result"
    }
   ],
   "source": [
    "num_labels"
   ]
  },
  {
   "cell_type": "code",
   "execution_count": 41,
   "id": "40dbab72",
   "metadata": {
    "execution": {
     "iopub.execute_input": "2025-08-06T11:44:42.386660Z",
     "iopub.status.busy": "2025-08-06T11:44:42.386189Z",
     "iopub.status.idle": "2025-08-06T11:44:42.686175Z",
     "shell.execute_reply": "2025-08-06T11:44:42.685341Z"
    },
    "papermill": {
     "duration": 0.314068,
     "end_time": "2025-08-06T11:44:42.687505",
     "exception": false,
     "start_time": "2025-08-06T11:44:42.373437",
     "status": "completed"
    },
    "tags": []
   },
   "outputs": [],
   "source": [
    "model = BiLSTMCRF(\n",
    "    vocab_size=vocab_size,\n",
    "    embedding_dim=embedding_dim,\n",
    "    hidden_dim=hidden_dim,\n",
    "    num_labels=num_labels,\n",
    "    pad_idx=PAD_INPUT,\n",
    "    pad_label_id=PAD_LABEL\n",
    ").to(device)"
   ]
  },
  {
   "cell_type": "markdown",
   "id": "320cf881",
   "metadata": {
    "papermill": {
     "duration": 0.012153,
     "end_time": "2025-08-06T11:44:42.712411",
     "exception": false,
     "start_time": "2025-08-06T11:44:42.700258",
     "status": "completed"
    },
    "tags": []
   },
   "source": [
    "## Testing a sample before training"
   ]
  },
  {
   "cell_type": "code",
   "execution_count": 42,
   "id": "f866dfcc",
   "metadata": {
    "execution": {
     "iopub.execute_input": "2025-08-06T11:44:42.737547Z",
     "iopub.status.busy": "2025-08-06T11:44:42.737335Z",
     "iopub.status.idle": "2025-08-06T11:44:42.740793Z",
     "shell.execute_reply": "2025-08-06T11:44:42.740200Z"
    },
    "papermill": {
     "duration": 0.017477,
     "end_time": "2025-08-06T11:44:42.741932",
     "exception": false,
     "start_time": "2025-08-06T11:44:42.724455",
     "status": "completed"
    },
    "tags": []
   },
   "outputs": [],
   "source": [
    "sample_text = (\n",
    "    \"Hello, my name is Sarah Johnson. \"\n",
    "    \"I live at 42 Maple Street, New York, and my email is sarah.j@gmail.com. \"\n",
    "    \"My phone number is 555-1234.\"\n",
    ")\n"
   ]
  },
  {
   "cell_type": "code",
   "execution_count": 43,
   "id": "3a207551",
   "metadata": {
    "execution": {
     "iopub.execute_input": "2025-08-06T11:44:42.767095Z",
     "iopub.status.busy": "2025-08-06T11:44:42.766882Z",
     "iopub.status.idle": "2025-08-06T11:44:43.237956Z",
     "shell.execute_reply": "2025-08-06T11:44:43.236730Z"
    },
    "papermill": {
     "duration": 0.48531,
     "end_time": "2025-08-06T11:44:43.239178",
     "exception": false,
     "start_time": "2025-08-06T11:44:42.753868",
     "status": "completed"
    },
    "tags": []
   },
   "outputs": [
    {
     "name": "stdout",
     "output_type": "stream",
     "text": [
      "\n",
      "=== Sample Inference Output (Untrained) ===\n",
      "| Token          | Predicted Label |\n",
      "|----------------|----------------|\n",
      "| [CLS]          | B-IPV4         |\n",
      "| hello          | B-IBAN         |\n",
      "| ,              | B-EYECOLOR     |\n",
      "| my             | I-FIRSTNAME    |\n",
      "| name           | I-USERNAME     |\n",
      "| is             | B-CURRENCY     |\n",
      "| sarah          | I-COUNTY       |\n",
      "| johnson        | B-VEHICLEVRM   |\n",
      "| .              | I-COUNTY       |\n",
      "| i              | B-CURRENCYNAME |\n",
      "| live           | I-MAC          |\n",
      "| at             | B-GENDER       |\n",
      "| 42             | B-DATE         |\n",
      "| maple          | I-AMOUNT       |\n",
      "| street         | B-JOBTITLE     |\n",
      "| ,              | B-ETHEREUMADDRESS |\n",
      "| new            | I-CURRENCYCODE |\n",
      "| york           | B-GENDER       |\n",
      "| ,              | I-SSN          |\n",
      "| and            | I-CURRENCYNAME |\n",
      "| my             | I-CURRENCYNAME |\n",
      "| email          | I-CURRENCYNAME |\n",
      "| is             | B-IP           |\n",
      "| sarah          | B-AGE          |\n",
      "| .              | I-COUNTY       |\n",
      "| j              | B-ETHEREUMADDRESS |\n",
      "| @              | I-CURRENCYNAME |\n",
      "| gma            | B-CITY         |\n",
      "| ##il           | I-IBAN         |\n",
      "| .              | B-CITY         |\n",
      "| com            | I-IBAN         |\n",
      "| .              | B-CITY         |\n",
      "| my             | B-VEHICLEVRM   |\n",
      "| phone          | I-ACCOUNTNAME  |\n",
      "| number         | I-BUILDINGNUMBER |\n",
      "| is             | B-IP           |\n",
      "| 555            | B-PHONEIMEI    |\n",
      "| -              | I-CURRENCY     |\n",
      "| 123            | I-SSN          |\n",
      "| ##4            | B-JOBTYPE      |\n",
      "| .              | B-PHONENUMBER  |\n",
      "| [SEP]          | B-PHONEIMEI    |\n"
     ]
    }
   ],
   "source": [
    "\n",
    "encoding_temp = tokenizer(\n",
    "    sample_text,\n",
    "    truncation=True,\n",
    "    padding=\"max_length\",   \n",
    "    max_length=MAX_LEN,\n",
    "    return_tensors=\"pt\",\n",
    "    is_split_into_words=False\n",
    ")\n",
    "\n",
    "\n",
    "X_temp = encoding_temp[\"input_ids\"].to(device)\n",
    "mask_temp = encoding_temp[\"attention_mask\"].bool().to(device)\n",
    "\n",
    "\n",
    "model.eval()\n",
    "with torch.no_grad():\n",
    "    pred_ids_temp = model(X_temp, mask=mask_temp)[0]\n",
    "\n",
    "\n",
    "seq_len_temp = mask_temp[0].sum().item()\n",
    "pred_ids_temp = pred_ids_temp[:seq_len_temp]\n",
    "\n",
    "id2label = {v: k for k, v in label2id.items()}\n",
    "pred_labels_temp = [id2label.get(lbl_id, \"O\") for lbl_id in pred_ids_temp]\n",
    "\n",
    "tokens_temp = tokenizer.convert_ids_to_tokens(X_temp[0])[:seq_len_temp]\n",
    "\n",
    "print(\"\\n=== Sample Inference Output (Untrained) ===\")\n",
    "print(\"| Token          | Predicted Label |\")\n",
    "print(\"|----------------|----------------|\")\n",
    "for tok, lbl in zip(tokens_temp, pred_labels_temp):\n",
    "    print(f\"| {tok:14s} | {lbl:14s} |\")\n"
   ]
  },
  {
   "cell_type": "markdown",
   "id": "293bd880",
   "metadata": {
    "papermill": {
     "duration": 0.012496,
     "end_time": "2025-08-06T11:44:43.264481",
     "exception": false,
     "start_time": "2025-08-06T11:44:43.251985",
     "status": "completed"
    },
    "tags": []
   },
   "source": [
    "Before training the model, we get a very bad results, the model can not even recongize first and last name."
   ]
  },
  {
   "cell_type": "markdown",
   "id": "81cd4a69",
   "metadata": {
    "papermill": {
     "duration": 0.012223,
     "end_time": "2025-08-06T11:44:43.289120",
     "exception": false,
     "start_time": "2025-08-06T11:44:43.276897",
     "status": "completed"
    },
    "tags": []
   },
   "source": [
    "## Model Training"
   ]
  },
  {
   "cell_type": "markdown",
   "id": "59f35407",
   "metadata": {
    "papermill": {
     "duration": 0.011998,
     "end_time": "2025-08-06T11:44:43.313813",
     "exception": false,
     "start_time": "2025-08-06T11:44:43.301815",
     "status": "completed"
    },
    "tags": []
   },
   "source": [
    "Create metrics function that will be used with test split."
   ]
  },
  {
   "cell_type": "code",
   "execution_count": 44,
   "id": "1bd7c5e5",
   "metadata": {
    "execution": {
     "iopub.execute_input": "2025-08-06T11:44:43.339323Z",
     "iopub.status.busy": "2025-08-06T11:44:43.339079Z",
     "iopub.status.idle": "2025-08-06T11:44:43.343710Z",
     "shell.execute_reply": "2025-08-06T11:44:43.342983Z"
    },
    "papermill": {
     "duration": 0.018813,
     "end_time": "2025-08-06T11:44:43.344893",
     "exception": false,
     "start_time": "2025-08-06T11:44:43.326080",
     "status": "completed"
    },
    "tags": []
   },
   "outputs": [],
   "source": [
    "def flat_metrics(all_true, all_pred, PAD_LABEL=-100):\n",
    "    y_true_flat, y_pred_flat = [], []\n",
    "    for true_seq, pred_seq in zip(all_true, all_pred):\n",
    "        # remove PADs\n",
    "        true_seq = [lbl for lbl in true_seq if lbl != PAD_LABEL]\n",
    "        pred_seq = pred_seq[:len(true_seq)]  # align lengths\n",
    "        y_true_flat.extend(true_seq)\n",
    "        y_pred_flat.extend(pred_seq)\n",
    "    return y_true_flat, y_pred_flat"
   ]
  },
  {
   "cell_type": "code",
   "execution_count": 45,
   "id": "04a72d53",
   "metadata": {
    "execution": {
     "iopub.execute_input": "2025-08-06T11:44:43.369973Z",
     "iopub.status.busy": "2025-08-06T11:44:43.369535Z",
     "iopub.status.idle": "2025-08-06T11:44:43.373454Z",
     "shell.execute_reply": "2025-08-06T11:44:43.372967Z"
    },
    "papermill": {
     "duration": 0.017595,
     "end_time": "2025-08-06T11:44:43.374477",
     "exception": false,
     "start_time": "2025-08-06T11:44:43.356882",
     "status": "completed"
    },
    "tags": []
   },
   "outputs": [],
   "source": [
    "model = model.to(device)"
   ]
  },
  {
   "cell_type": "code",
   "execution_count": 46,
   "id": "c6acc50b",
   "metadata": {
    "execution": {
     "iopub.execute_input": "2025-08-06T11:44:43.399523Z",
     "iopub.status.busy": "2025-08-06T11:44:43.399167Z",
     "iopub.status.idle": "2025-08-06T11:44:47.563732Z",
     "shell.execute_reply": "2025-08-06T11:44:47.563017Z"
    },
    "papermill": {
     "duration": 4.178591,
     "end_time": "2025-08-06T11:44:47.565151",
     "exception": false,
     "start_time": "2025-08-06T11:44:43.386560",
     "status": "completed"
    },
    "tags": []
   },
   "outputs": [],
   "source": [
    "optimizer = torch.optim.Adam(model.parameters(), lr=1e-3)"
   ]
  },
  {
   "cell_type": "code",
   "execution_count": 47,
   "id": "92c695e5",
   "metadata": {
    "execution": {
     "iopub.execute_input": "2025-08-06T11:44:47.591428Z",
     "iopub.status.busy": "2025-08-06T11:44:47.590606Z",
     "iopub.status.idle": "2025-08-06T11:44:47.594094Z",
     "shell.execute_reply": "2025-08-06T11:44:47.593422Z"
    },
    "papermill": {
     "duration": 0.01715,
     "end_time": "2025-08-06T11:44:47.595147",
     "exception": false,
     "start_time": "2025-08-06T11:44:47.577997",
     "status": "completed"
    },
    "tags": []
   },
   "outputs": [],
   "source": [
    "EPOCHS = 5"
   ]
  },
  {
   "cell_type": "code",
   "execution_count": 48,
   "id": "e093c4ee",
   "metadata": {
    "execution": {
     "iopub.execute_input": "2025-08-06T11:44:47.620193Z",
     "iopub.status.busy": "2025-08-06T11:44:47.619652Z",
     "iopub.status.idle": "2025-08-06T12:10:33.939613Z",
     "shell.execute_reply": "2025-08-06T12:10:33.938835Z"
    },
    "papermill": {
     "duration": 1546.333692,
     "end_time": "2025-08-06T12:10:33.940785",
     "exception": false,
     "start_time": "2025-08-06T11:44:47.607093",
     "status": "completed"
    },
    "tags": []
   },
   "outputs": [
    {
     "name": "stdout",
     "output_type": "stream",
     "text": [
      "\n",
      "=== Epoch 1/5 ===\n"
     ]
    },
    {
     "name": "stderr",
     "output_type": "stream",
     "text": [
      "                                                                                    \r"
     ]
    },
    {
     "name": "stdout",
     "output_type": "stream",
     "text": [
      "Train Loss: 20.0645\n"
     ]
    },
    {
     "name": "stderr",
     "output_type": "stream",
     "text": [
      "                                                                                    \r"
     ]
    },
    {
     "name": "stdout",
     "output_type": "stream",
     "text": [
      "Test Loss: 5.3088 | Acc: 0.9345 | Precision: 0.8681 | Recall: 0.8083 | F1: 0.8264\n",
      "New best model saved with F1=0.8264 -> best_bilstm_crf_model.pt\n",
      "\n",
      "=== Epoch 2/5 ===\n"
     ]
    },
    {
     "name": "stderr",
     "output_type": "stream",
     "text": [
      "                                                                                    \r"
     ]
    },
    {
     "name": "stdout",
     "output_type": "stream",
     "text": [
      "Train Loss: 3.6001\n"
     ]
    },
    {
     "name": "stderr",
     "output_type": "stream",
     "text": [
      "                                                                                    \r"
     ]
    },
    {
     "name": "stdout",
     "output_type": "stream",
     "text": [
      "Test Loss: 3.0600 | Acc: 0.9503 | Precision: 0.8957 | Recall: 0.8752 | F1: 0.8781\n",
      "New best model saved with F1=0.8781 -> best_bilstm_crf_model.pt\n",
      "\n",
      "=== Epoch 3/5 ===\n"
     ]
    },
    {
     "name": "stderr",
     "output_type": "stream",
     "text": [
      "                                                                                    \r"
     ]
    },
    {
     "name": "stdout",
     "output_type": "stream",
     "text": [
      "Train Loss: 1.8563\n"
     ]
    },
    {
     "name": "stderr",
     "output_type": "stream",
     "text": [
      "                                                                                    \r"
     ]
    },
    {
     "name": "stdout",
     "output_type": "stream",
     "text": [
      "Test Loss: 2.2379 | Acc: 0.9552 | Precision: 0.9125 | Recall: 0.8896 | F1: 0.8946\n",
      "New best model saved with F1=0.8946 -> best_bilstm_crf_model.pt\n",
      "\n",
      "=== Epoch 4/5 ===\n"
     ]
    },
    {
     "name": "stderr",
     "output_type": "stream",
     "text": [
      "                                                                                    \r"
     ]
    },
    {
     "name": "stdout",
     "output_type": "stream",
     "text": [
      "Train Loss: 1.1443\n"
     ]
    },
    {
     "name": "stderr",
     "output_type": "stream",
     "text": [
      "                                                                                    \r"
     ]
    },
    {
     "name": "stdout",
     "output_type": "stream",
     "text": [
      "Test Loss: 1.8105 | Acc: 0.9562 | Precision: 0.9105 | Recall: 0.8987 | F1: 0.8985\n",
      "New best model saved with F1=0.8985 -> best_bilstm_crf_model.pt\n",
      "\n",
      "=== Epoch 5/5 ===\n"
     ]
    },
    {
     "name": "stderr",
     "output_type": "stream",
     "text": [
      "                                                                                    \r"
     ]
    },
    {
     "name": "stdout",
     "output_type": "stream",
     "text": [
      "Train Loss: 0.8319\n"
     ]
    },
    {
     "name": "stderr",
     "output_type": "stream",
     "text": [
      "                                                                                    \r"
     ]
    },
    {
     "name": "stdout",
     "output_type": "stream",
     "text": [
      "Test Loss: 1.7057 | Acc: 0.9566 | Precision: 0.9110 | Recall: 0.9032 | F1: 0.9054\n",
      "New best model saved with F1=0.9054 -> best_bilstm_crf_model.pt\n"
     ]
    }
   ],
   "source": [
    "best_f1 = -np.inf\n",
    "\n",
    "for epoch in range(EPOCHS):\n",
    "    print(f\"\\n=== Epoch {epoch+1}/{EPOCHS} ===\")\n",
    "    \n",
    "    # ---- TRAIN ----\n",
    "    model.train()\n",
    "    total_loss = 0.0\n",
    "    train_loader_tqdm = tqdm(train_loader, desc=f\"Training {epoch+1}/{EPOCHS}\", leave=False)\n",
    "\n",
    "    for X_batch, y_batch in train_loader_tqdm:\n",
    "        X_batch, y_batch = X_batch.to(device), y_batch.to(device)\n",
    "        mask = (X_batch != PAD_INPUT)\n",
    "\n",
    "        optimizer.zero_grad()\n",
    "        loss = model(X_batch, y_batch, mask)  # forward returns loss when tags are passed\n",
    "        loss.backward()\n",
    "        optimizer.step()\n",
    "        \n",
    "        total_loss += loss.item()\n",
    "        train_loader_tqdm.set_postfix({\"Batch Loss\": f\"{loss.item():.4f}\"})\n",
    "\n",
    "    avg_loss = total_loss / len(train_loader)\n",
    "    print(f\"Train Loss: {avg_loss:.4f}\")\n",
    "\n",
    "    # ---- EVALUATE ON TEST SET ----\n",
    "    model.eval()\n",
    "    all_true, all_pred = [], []\n",
    "    total_test_loss = 0.0\n",
    "    test_loader_tqdm = tqdm(test_loader, desc=f\"Evaluating {epoch+1}/{EPOCHS}\", leave=False)\n",
    "\n",
    "    with torch.no_grad():\n",
    "        for X_batch, y_batch in test_loader_tqdm:\n",
    "            X_batch, y_batch = X_batch.to(device), y_batch.to(device)\n",
    "            mask = (X_batch != PAD_INPUT)\n",
    "\n",
    "            # Compute loss\n",
    "            loss = model(X_batch, y_batch, mask)\n",
    "            total_test_loss += loss.item()\n",
    "\n",
    "            # Decode predictions\n",
    "            predictions = model(X_batch, mask=mask)  # decode mode\n",
    "            y_true = y_batch.cpu().tolist()\n",
    "\n",
    "            for t, p in zip(y_true, predictions):\n",
    "                all_true.append(t)\n",
    "                all_pred.append(p)\n",
    "            \n",
    "            test_loader_tqdm.set_postfix({\"Batch Loss\": f\"{loss.item():.4f}\"})\n",
    "\n",
    "    avg_test_loss = total_test_loss / len(test_loader)\n",
    "\n",
    "    # Flatten sequences ignoring PAD labels (-100)\n",
    "    y_true_flat, y_pred_flat = flat_metrics(all_true, all_pred)\n",
    "\n",
    "    acc = accuracy_score(y_true_flat, y_pred_flat)\n",
    "    prec = precision_score(y_true_flat, y_pred_flat, average='macro', zero_division=0)\n",
    "    rec = recall_score(y_true_flat, y_pred_flat, average='macro', zero_division=0)\n",
    "    f1 = f1_score(y_true_flat, y_pred_flat, average='macro', zero_division=0)\n",
    "\n",
    "    print(f\"Test Loss: {avg_test_loss:.4f} | Acc: {acc:.4f} | \"\n",
    "          f\"Precision: {prec:.4f} | Recall: {rec:.4f} | F1: {f1:.4f}\")\n",
    "\n",
    "    # ---- SAVE ONLY BEST MODEL ----\n",
    "    if f1 > best_f1:\n",
    "        best_f1 = f1\n",
    "        torch.save(model, \"best_bilstm_crf_model.pt\")\n",
    "        print(f\"New best model saved with F1={best_f1:.4f} -> best_bilstm_crf_model.pt\")\n"
   ]
  },
  {
   "cell_type": "markdown",
   "id": "dd608072",
   "metadata": {
    "papermill": {
     "duration": 0.599726,
     "end_time": "2025-08-06T12:10:35.115358",
     "exception": false,
     "start_time": "2025-08-06T12:10:34.515632",
     "status": "completed"
    },
    "tags": []
   },
   "source": [
    "As we can see, there is a huge improvment in the performance of the model, with f1-score of ~91%"
   ]
  },
  {
   "cell_type": "markdown",
   "id": "e83ac918",
   "metadata": {
    "papermill": {
     "duration": 0.593306,
     "end_time": "2025-08-06T12:10:36.245298",
     "exception": false,
     "start_time": "2025-08-06T12:10:35.651992",
     "status": "completed"
    },
    "tags": []
   },
   "source": [
    "## Testing a sample After training"
   ]
  },
  {
   "cell_type": "code",
   "execution_count": 49,
   "id": "780759ef",
   "metadata": {
    "execution": {
     "iopub.execute_input": "2025-08-06T12:10:37.375327Z",
     "iopub.status.busy": "2025-08-06T12:10:37.374591Z",
     "iopub.status.idle": "2025-08-06T12:10:37.412258Z",
     "shell.execute_reply": "2025-08-06T12:10:37.411369Z"
    },
    "papermill": {
     "duration": 0.638637,
     "end_time": "2025-08-06T12:10:37.413461",
     "exception": false,
     "start_time": "2025-08-06T12:10:36.774824",
     "status": "completed"
    },
    "tags": []
   },
   "outputs": [
    {
     "name": "stdout",
     "output_type": "stream",
     "text": [
      "\n",
      "=== Sample Inference Output (Untrained) ===\n",
      "| Token          | Predicted Label |\n",
      "|----------------|----------------|\n",
      "| [CLS]          | O              |\n",
      "| hello          | O              |\n",
      "| ,              | O              |\n",
      "| my             | O              |\n",
      "| name           | O              |\n",
      "| is             | O              |\n",
      "| sarah          | B-FIRSTNAME    |\n",
      "| johnson        | B-LASTNAME     |\n",
      "| .              | O              |\n",
      "| i              | O              |\n",
      "| live           | O              |\n",
      "| at             | O              |\n",
      "| 42             | B-BUILDINGNUMBER |\n",
      "| maple          | B-STREET       |\n",
      "| street         | I-STREET       |\n",
      "| ,              | O              |\n",
      "| new            | B-STATE        |\n",
      "| york           | I-STATE        |\n",
      "| ,              | O              |\n",
      "| and            | O              |\n",
      "| my             | O              |\n",
      "| email          | O              |\n",
      "| is             | O              |\n",
      "| sarah          | B-EMAIL        |\n",
      "| .              | I-EMAIL        |\n",
      "| j              | I-EMAIL        |\n",
      "| @              | I-EMAIL        |\n",
      "| gma            | I-EMAIL        |\n",
      "| ##il           | I-EMAIL        |\n",
      "| .              | I-EMAIL        |\n",
      "| com            | I-EMAIL        |\n",
      "| .              | O              |\n",
      "| my             | O              |\n",
      "| phone          | O              |\n",
      "| number         | O              |\n",
      "| is             | O              |\n",
      "| 555            | B-PHONENUMBER  |\n",
      "| -              | I-PHONENUMBER  |\n",
      "| 123            | I-PHONENUMBER  |\n",
      "| ##4            | I-PHONENUMBER  |\n",
      "| .              | I-PHONENUMBER  |\n",
      "| [SEP]          | I-PHONENUMBER  |\n"
     ]
    }
   ],
   "source": [
    "encoding_temp = tokenizer(\n",
    "    sample_text,\n",
    "    truncation=True,\n",
    "    padding=\"max_length\",   \n",
    "    max_length=MAX_LEN,\n",
    "    return_tensors=\"pt\",\n",
    "    is_split_into_words=False\n",
    ")\n",
    "\n",
    "\n",
    "X_temp = encoding_temp[\"input_ids\"].to(device)\n",
    "mask_temp = encoding_temp[\"attention_mask\"].bool().to(device)\n",
    "\n",
    "\n",
    "model.eval()\n",
    "with torch.no_grad():\n",
    "    pred_ids_temp = model(X_temp, mask=mask_temp)[0]\n",
    "\n",
    "\n",
    "seq_len_temp = mask_temp[0].sum().item()\n",
    "pred_ids_temp = pred_ids_temp[:seq_len_temp]\n",
    "\n",
    "id2label = {v: k for k, v in label2id.items()}\n",
    "pred_labels_temp = [id2label.get(lbl_id, \"O\") for lbl_id in pred_ids_temp]\n",
    "\n",
    "tokens_temp = tokenizer.convert_ids_to_tokens(X_temp[0])[:seq_len_temp]\n",
    "\n",
    "print(\"\\n=== Sample Inference Output (Untrained) ===\")\n",
    "print(\"| Token          | Predicted Label |\")\n",
    "print(\"|----------------|----------------|\")\n",
    "for tok, lbl in zip(tokens_temp, pred_labels_temp):\n",
    "    print(f\"| {tok:14s} | {lbl:14s} |\")\n"
   ]
  },
  {
   "cell_type": "markdown",
   "id": "0ff15428",
   "metadata": {
    "papermill": {
     "duration": 0.598649,
     "end_time": "2025-08-06T12:10:38.543607",
     "exception": false,
     "start_time": "2025-08-06T12:10:37.944958",
     "status": "completed"
    },
    "tags": []
   },
   "source": [
    "The model can correctly Identify the PII information of the text provided, along with the normal text objects as O"
   ]
  },
  {
   "cell_type": "markdown",
   "id": "30d994fb",
   "metadata": {
    "papermill": {
     "duration": 0.60717,
     "end_time": "2025-08-06T12:10:39.706664",
     "exception": false,
     "start_time": "2025-08-06T12:10:39.099494",
     "status": "completed"
    },
    "tags": []
   },
   "source": [
    "## Thank you"
   ]
  }
 ],
 "metadata": {
  "kaggle": {
   "accelerator": "gpu",
   "dataSources": [
    {
     "datasetId": 4341264,
     "sourceId": 7460760,
     "sourceType": "datasetVersion"
    }
   ],
   "dockerImageVersionId": 31090,
   "isGpuEnabled": true,
   "isInternetEnabled": true,
   "language": "python",
   "sourceType": "notebook"
  },
  "kernelspec": {
   "display_name": "Python 3",
   "language": "python",
   "name": "python3"
  },
  "language_info": {
   "codemirror_mode": {
    "name": "ipython",
    "version": 3
   },
   "file_extension": ".py",
   "mimetype": "text/x-python",
   "name": "python",
   "nbconvert_exporter": "python",
   "pygments_lexer": "ipython3",
   "version": "3.11.13"
  },
  "papermill": {
   "default_parameters": {},
   "duration": 1975.268931,
   "end_time": "2025-08-06T12:10:42.653920",
   "environment_variables": {},
   "exception": null,
   "input_path": "__notebook__.ipynb",
   "output_path": "__notebook__.ipynb",
   "parameters": {},
   "start_time": "2025-08-06T11:37:47.384989",
   "version": "2.6.0"
  },
  "widgets": {
   "application/vnd.jupyter.widget-state+json": {
    "state": {
     "048a114d282a49a6b9b807a6139a7afa": {
      "model_module": "@jupyter-widgets/controls",
      "model_module_version": "2.0.0",
      "model_name": "HBoxModel",
      "state": {
       "_dom_classes": [],
       "_model_module": "@jupyter-widgets/controls",
       "_model_module_version": "2.0.0",
       "_model_name": "HBoxModel",
       "_view_count": null,
       "_view_module": "@jupyter-widgets/controls",
       "_view_module_version": "2.0.0",
       "_view_name": "HBoxView",
       "box_style": "",
       "children": [
        "IPY_MODEL_e54651f9d31740d7a6755435b8fbdf76",
        "IPY_MODEL_128b83bd70ed47dca894f659851bd944",
        "IPY_MODEL_169116fed4d34a4b84f8e0202ea353c2"
       ],
       "layout": "IPY_MODEL_d74093639b5f499d8120622761319a47",
       "tabbable": null,
       "tooltip": null
      }
     },
     "04f6c62aea3b4c2aa05680074d2ccf54": {
      "model_module": "@jupyter-widgets/base",
      "model_module_version": "2.0.0",
      "model_name": "LayoutModel",
      "state": {
       "_model_module": "@jupyter-widgets/base",
       "_model_module_version": "2.0.0",
       "_model_name": "LayoutModel",
       "_view_count": null,
       "_view_module": "@jupyter-widgets/base",
       "_view_module_version": "2.0.0",
       "_view_name": "LayoutView",
       "align_content": null,
       "align_items": null,
       "align_self": null,
       "border_bottom": null,
       "border_left": null,
       "border_right": null,
       "border_top": null,
       "bottom": null,
       "display": null,
       "flex": null,
       "flex_flow": null,
       "grid_area": null,
       "grid_auto_columns": null,
       "grid_auto_flow": null,
       "grid_auto_rows": null,
       "grid_column": null,
       "grid_gap": null,
       "grid_row": null,
       "grid_template_areas": null,
       "grid_template_columns": null,
       "grid_template_rows": null,
       "height": null,
       "justify_content": null,
       "justify_items": null,
       "left": null,
       "margin": null,
       "max_height": null,
       "max_width": null,
       "min_height": null,
       "min_width": null,
       "object_fit": null,
       "object_position": null,
       "order": null,
       "overflow": null,
       "padding": null,
       "right": null,
       "top": null,
       "visibility": null,
       "width": null
      }
     },
     "0509644283714ec7b34171223d491e5c": {
      "model_module": "@jupyter-widgets/controls",
      "model_module_version": "2.0.0",
      "model_name": "HTMLStyleModel",
      "state": {
       "_model_module": "@jupyter-widgets/controls",
       "_model_module_version": "2.0.0",
       "_model_name": "HTMLStyleModel",
       "_view_count": null,
       "_view_module": "@jupyter-widgets/base",
       "_view_module_version": "2.0.0",
       "_view_name": "StyleView",
       "background": null,
       "description_width": "",
       "font_size": null,
       "text_color": null
      }
     },
     "09e4c5884dfa436ab59f28da20853235": {
      "model_module": "@jupyter-widgets/controls",
      "model_module_version": "2.0.0",
      "model_name": "HTMLStyleModel",
      "state": {
       "_model_module": "@jupyter-widgets/controls",
       "_model_module_version": "2.0.0",
       "_model_name": "HTMLStyleModel",
       "_view_count": null,
       "_view_module": "@jupyter-widgets/base",
       "_view_module_version": "2.0.0",
       "_view_name": "StyleView",
       "background": null,
       "description_width": "",
       "font_size": null,
       "text_color": null
      }
     },
     "0d3ac20bf25c4150ad7b8041109c617d": {
      "model_module": "@jupyter-widgets/base",
      "model_module_version": "2.0.0",
      "model_name": "LayoutModel",
      "state": {
       "_model_module": "@jupyter-widgets/base",
       "_model_module_version": "2.0.0",
       "_model_name": "LayoutModel",
       "_view_count": null,
       "_view_module": "@jupyter-widgets/base",
       "_view_module_version": "2.0.0",
       "_view_name": "LayoutView",
       "align_content": null,
       "align_items": null,
       "align_self": null,
       "border_bottom": null,
       "border_left": null,
       "border_right": null,
       "border_top": null,
       "bottom": null,
       "display": null,
       "flex": null,
       "flex_flow": null,
       "grid_area": null,
       "grid_auto_columns": null,
       "grid_auto_flow": null,
       "grid_auto_rows": null,
       "grid_column": null,
       "grid_gap": null,
       "grid_row": null,
       "grid_template_areas": null,
       "grid_template_columns": null,
       "grid_template_rows": null,
       "height": null,
       "justify_content": null,
       "justify_items": null,
       "left": null,
       "margin": null,
       "max_height": null,
       "max_width": null,
       "min_height": null,
       "min_width": null,
       "object_fit": null,
       "object_position": null,
       "order": null,
       "overflow": null,
       "padding": null,
       "right": null,
       "top": null,
       "visibility": null,
       "width": "20px"
      }
     },
     "11afa4979f55468985eed45e110045f1": {
      "model_module": "@jupyter-widgets/controls",
      "model_module_version": "2.0.0",
      "model_name": "FloatProgressModel",
      "state": {
       "_dom_classes": [],
       "_model_module": "@jupyter-widgets/controls",
       "_model_module_version": "2.0.0",
       "_model_name": "FloatProgressModel",
       "_view_count": null,
       "_view_module": "@jupyter-widgets/controls",
       "_view_module_version": "2.0.0",
       "_view_name": "ProgressView",
       "bar_style": "success",
       "description": "",
       "description_allow_html": false,
       "layout": "IPY_MODEL_54f37d92cadc42e8aaf7560e5b2d214a",
       "max": 231508.0,
       "min": 0.0,
       "orientation": "horizontal",
       "style": "IPY_MODEL_78c4d5c59ef34568bf5cf7fa1e93621c",
       "tabbable": null,
       "tooltip": null,
       "value": 231508.0
      }
     },
     "128b83bd70ed47dca894f659851bd944": {
      "model_module": "@jupyter-widgets/controls",
      "model_module_version": "2.0.0",
      "model_name": "FloatProgressModel",
      "state": {
       "_dom_classes": [],
       "_model_module": "@jupyter-widgets/controls",
       "_model_module_version": "2.0.0",
       "_model_name": "FloatProgressModel",
       "_view_count": null,
       "_view_module": "@jupyter-widgets/controls",
       "_view_module_version": "2.0.0",
       "_view_name": "ProgressView",
       "bar_style": "success",
       "description": "",
       "description_allow_html": false,
       "layout": "IPY_MODEL_a757c115fd01418794e6abbf5141c2a7",
       "max": 1.0,
       "min": 0.0,
       "orientation": "horizontal",
       "style": "IPY_MODEL_cd5f3901a69b4ba2923cee9c489ed0ac",
       "tabbable": null,
       "tooltip": null,
       "value": 1.0
      }
     },
     "169116fed4d34a4b84f8e0202ea353c2": {
      "model_module": "@jupyter-widgets/controls",
      "model_module_version": "2.0.0",
      "model_name": "HTMLModel",
      "state": {
       "_dom_classes": [],
       "_model_module": "@jupyter-widgets/controls",
       "_model_module_version": "2.0.0",
       "_model_name": "HTMLModel",
       "_view_count": null,
       "_view_module": "@jupyter-widgets/controls",
       "_view_module_version": "2.0.0",
       "_view_name": "HTMLView",
       "description": "",
       "description_allow_html": false,
       "layout": "IPY_MODEL_fbad0a6f3572431d9a62932446e40901",
       "placeholder": "​",
       "style": "IPY_MODEL_36e8d9d989b84d6fb843070c977fb90a",
       "tabbable": null,
       "tooltip": null,
       "value": " 1/1 [00:00&lt;00:00, 183.44it/s]"
      }
     },
     "1b1671b0c0174130876e7462211cee64": {
      "model_module": "@jupyter-widgets/controls",
      "model_module_version": "2.0.0",
      "model_name": "HTMLModel",
      "state": {
       "_dom_classes": [],
       "_model_module": "@jupyter-widgets/controls",
       "_model_module_version": "2.0.0",
       "_model_name": "HTMLModel",
       "_view_count": null,
       "_view_module": "@jupyter-widgets/controls",
       "_view_module_version": "2.0.0",
       "_view_name": "HTMLView",
       "description": "",
       "description_allow_html": false,
       "layout": "IPY_MODEL_881a94903222446d891e5f23500dcd06",
       "placeholder": "​",
       "style": "IPY_MODEL_aa5ccc49d7414018a20426b1a543b359",
       "tabbable": null,
       "tooltip": null,
       "value": " 48.0/48.0 [00:00&lt;00:00, 6.52kB/s]"
      }
     },
     "2bc174fc33924a1180ed9f07e5fa5ceb": {
      "model_module": "@jupyter-widgets/base",
      "model_module_version": "2.0.0",
      "model_name": "LayoutModel",
      "state": {
       "_model_module": "@jupyter-widgets/base",
       "_model_module_version": "2.0.0",
       "_model_name": "LayoutModel",
       "_view_count": null,
       "_view_module": "@jupyter-widgets/base",
       "_view_module_version": "2.0.0",
       "_view_name": "LayoutView",
       "align_content": null,
       "align_items": null,
       "align_self": null,
       "border_bottom": null,
       "border_left": null,
       "border_right": null,
       "border_top": null,
       "bottom": null,
       "display": null,
       "flex": null,
       "flex_flow": null,
       "grid_area": null,
       "grid_auto_columns": null,
       "grid_auto_flow": null,
       "grid_auto_rows": null,
       "grid_column": null,
       "grid_gap": null,
       "grid_row": null,
       "grid_template_areas": null,
       "grid_template_columns": null,
       "grid_template_rows": null,
       "height": null,
       "justify_content": null,
       "justify_items": null,
       "left": null,
       "margin": null,
       "max_height": null,
       "max_width": null,
       "min_height": null,
       "min_width": null,
       "object_fit": null,
       "object_position": null,
       "order": null,
       "overflow": null,
       "padding": null,
       "right": null,
       "top": null,
       "visibility": null,
       "width": null
      }
     },
     "33ef312bc21e49a18a829796ef32529c": {
      "model_module": "@jupyter-widgets/controls",
      "model_module_version": "2.0.0",
      "model_name": "HTMLStyleModel",
      "state": {
       "_model_module": "@jupyter-widgets/controls",
       "_model_module_version": "2.0.0",
       "_model_name": "HTMLStyleModel",
       "_view_count": null,
       "_view_module": "@jupyter-widgets/base",
       "_view_module_version": "2.0.0",
       "_view_name": "StyleView",
       "background": null,
       "description_width": "",
       "font_size": null,
       "text_color": null
      }
     },
     "36e8d9d989b84d6fb843070c977fb90a": {
      "model_module": "@jupyter-widgets/controls",
      "model_module_version": "2.0.0",
      "model_name": "HTMLStyleModel",
      "state": {
       "_model_module": "@jupyter-widgets/controls",
       "_model_module_version": "2.0.0",
       "_model_name": "HTMLStyleModel",
       "_view_count": null,
       "_view_module": "@jupyter-widgets/base",
       "_view_module_version": "2.0.0",
       "_view_name": "StyleView",
       "background": null,
       "description_width": "",
       "font_size": null,
       "text_color": null
      }
     },
     "3b1e3e672c2948d19bceb5d36906b4ef": {
      "model_module": "@jupyter-widgets/controls",
      "model_module_version": "2.0.0",
      "model_name": "HTMLModel",
      "state": {
       "_dom_classes": [],
       "_model_module": "@jupyter-widgets/controls",
       "_model_module_version": "2.0.0",
       "_model_name": "HTMLModel",
       "_view_count": null,
       "_view_module": "@jupyter-widgets/controls",
       "_view_module_version": "2.0.0",
       "_view_name": "HTMLView",
       "description": "",
       "description_allow_html": false,
       "layout": "IPY_MODEL_04f6c62aea3b4c2aa05680074d2ccf54",
       "placeholder": "​",
       "style": "IPY_MODEL_426bf2b2c34c4fdb8dcf3a112302373f",
       "tabbable": null,
       "tooltip": null,
       "value": " 43501/0 [00:00&lt;00:00, 46031.16 examples/s]"
      }
     },
     "426bf2b2c34c4fdb8dcf3a112302373f": {
      "model_module": "@jupyter-widgets/controls",
      "model_module_version": "2.0.0",
      "model_name": "HTMLStyleModel",
      "state": {
       "_model_module": "@jupyter-widgets/controls",
       "_model_module_version": "2.0.0",
       "_model_name": "HTMLStyleModel",
       "_view_count": null,
       "_view_module": "@jupyter-widgets/base",
       "_view_module_version": "2.0.0",
       "_view_name": "StyleView",
       "background": null,
       "description_width": "",
       "font_size": null,
       "text_color": null
      }
     },
     "4671e25ac19f4ac6bae7a283f6c9024b": {
      "model_module": "@jupyter-widgets/controls",
      "model_module_version": "2.0.0",
      "model_name": "HBoxModel",
      "state": {
       "_dom_classes": [],
       "_model_module": "@jupyter-widgets/controls",
       "_model_module_version": "2.0.0",
       "_model_name": "HBoxModel",
       "_view_count": null,
       "_view_module": "@jupyter-widgets/controls",
       "_view_module_version": "2.0.0",
       "_view_name": "HBoxView",
       "box_style": "",
       "children": [
        "IPY_MODEL_bbbe64b6e38f4ae2b7683824aa9ca666",
        "IPY_MODEL_fd6fcf37789642a19927312042bfd3c8",
        "IPY_MODEL_4991147dbbc34bfc8c53e9cc6e256948"
       ],
       "layout": "IPY_MODEL_7feb6b9cd17b45c492602a36e26b4435",
       "tabbable": null,
       "tooltip": null
      }
     },
     "4991147dbbc34bfc8c53e9cc6e256948": {
      "model_module": "@jupyter-widgets/controls",
      "model_module_version": "2.0.0",
      "model_name": "HTMLModel",
      "state": {
       "_dom_classes": [],
       "_model_module": "@jupyter-widgets/controls",
       "_model_module_version": "2.0.0",
       "_model_name": "HTMLModel",
       "_view_count": null,
       "_view_module": "@jupyter-widgets/controls",
       "_view_module_version": "2.0.0",
       "_view_name": "HTMLView",
       "description": "",
       "description_allow_html": false,
       "layout": "IPY_MODEL_d6063c0dc6eb4237bc7824cd0986ce57",
       "placeholder": "​",
       "style": "IPY_MODEL_0509644283714ec7b34171223d491e5c",
       "tabbable": null,
       "tooltip": null,
       "value": " 570/570 [00:00&lt;00:00, 83.2kB/s]"
      }
     },
     "4c56d130d2eb4e8aa4ce711cd6a696f5": {
      "model_module": "@jupyter-widgets/base",
      "model_module_version": "2.0.0",
      "model_name": "LayoutModel",
      "state": {
       "_model_module": "@jupyter-widgets/base",
       "_model_module_version": "2.0.0",
       "_model_name": "LayoutModel",
       "_view_count": null,
       "_view_module": "@jupyter-widgets/base",
       "_view_module_version": "2.0.0",
       "_view_name": "LayoutView",
       "align_content": null,
       "align_items": null,
       "align_self": null,
       "border_bottom": null,
       "border_left": null,
       "border_right": null,
       "border_top": null,
       "bottom": null,
       "display": null,
       "flex": null,
       "flex_flow": null,
       "grid_area": null,
       "grid_auto_columns": null,
       "grid_auto_flow": null,
       "grid_auto_rows": null,
       "grid_column": null,
       "grid_gap": null,
       "grid_row": null,
       "grid_template_areas": null,
       "grid_template_columns": null,
       "grid_template_rows": null,
       "height": null,
       "justify_content": null,
       "justify_items": null,
       "left": null,
       "margin": null,
       "max_height": null,
       "max_width": null,
       "min_height": null,
       "min_width": null,
       "object_fit": null,
       "object_position": null,
       "order": null,
       "overflow": null,
       "padding": null,
       "right": null,
       "top": null,
       "visibility": null,
       "width": null
      }
     },
     "54f37d92cadc42e8aaf7560e5b2d214a": {
      "model_module": "@jupyter-widgets/base",
      "model_module_version": "2.0.0",
      "model_name": "LayoutModel",
      "state": {
       "_model_module": "@jupyter-widgets/base",
       "_model_module_version": "2.0.0",
       "_model_name": "LayoutModel",
       "_view_count": null,
       "_view_module": "@jupyter-widgets/base",
       "_view_module_version": "2.0.0",
       "_view_name": "LayoutView",
       "align_content": null,
       "align_items": null,
       "align_self": null,
       "border_bottom": null,
       "border_left": null,
       "border_right": null,
       "border_top": null,
       "bottom": null,
       "display": null,
       "flex": null,
       "flex_flow": null,
       "grid_area": null,
       "grid_auto_columns": null,
       "grid_auto_flow": null,
       "grid_auto_rows": null,
       "grid_column": null,
       "grid_gap": null,
       "grid_row": null,
       "grid_template_areas": null,
       "grid_template_columns": null,
       "grid_template_rows": null,
       "height": null,
       "justify_content": null,
       "justify_items": null,
       "left": null,
       "margin": null,
       "max_height": null,
       "max_width": null,
       "min_height": null,
       "min_width": null,
       "object_fit": null,
       "object_position": null,
       "order": null,
       "overflow": null,
       "padding": null,
       "right": null,
       "top": null,
       "visibility": null,
       "width": null
      }
     },
     "5a0e991e8bcb4b60a7c6bb2629156e4e": {
      "model_module": "@jupyter-widgets/controls",
      "model_module_version": "2.0.0",
      "model_name": "HTMLModel",
      "state": {
       "_dom_classes": [],
       "_model_module": "@jupyter-widgets/controls",
       "_model_module_version": "2.0.0",
       "_model_name": "HTMLModel",
       "_view_count": null,
       "_view_module": "@jupyter-widgets/controls",
       "_view_module_version": "2.0.0",
       "_view_name": "HTMLView",
       "description": "",
       "description_allow_html": false,
       "layout": "IPY_MODEL_7db683d553874c00a8bd33006d9e6311",
       "placeholder": "​",
       "style": "IPY_MODEL_8659c211f60746e9ab0e35ca008c354f",
       "tabbable": null,
       "tooltip": null,
       "value": " 232k/232k [00:00&lt;00:00, 1.35MB/s]"
      }
     },
     "5d1008339dc842ab8e3fdb71c61195db": {
      "model_module": "@jupyter-widgets/controls",
      "model_module_version": "2.0.0",
      "model_name": "HTMLModel",
      "state": {
       "_dom_classes": [],
       "_model_module": "@jupyter-widgets/controls",
       "_model_module_version": "2.0.0",
       "_model_name": "HTMLModel",
       "_view_count": null,
       "_view_module": "@jupyter-widgets/controls",
       "_view_module_version": "2.0.0",
       "_view_name": "HTMLView",
       "description": "",
       "description_allow_html": false,
       "layout": "IPY_MODEL_834859fe2810446591bda2c9e8e93608",
       "placeholder": "​",
       "style": "IPY_MODEL_b6009e614223452ab72d7ba86b7d4f93",
       "tabbable": null,
       "tooltip": null,
       "value": " 466k/466k [00:00&lt;00:00, 1.34MB/s]"
      }
     },
     "68fbfd6fd42748cfa0f3b31785eb94e2": {
      "model_module": "@jupyter-widgets/controls",
      "model_module_version": "2.0.0",
      "model_name": "FloatProgressModel",
      "state": {
       "_dom_classes": [],
       "_model_module": "@jupyter-widgets/controls",
       "_model_module_version": "2.0.0",
       "_model_name": "FloatProgressModel",
       "_view_count": null,
       "_view_module": "@jupyter-widgets/controls",
       "_view_module_version": "2.0.0",
       "_view_name": "ProgressView",
       "bar_style": "success",
       "description": "",
       "description_allow_html": false,
       "layout": "IPY_MODEL_cda4a49342664e60bd9b2a6983be71b9",
       "max": 48.0,
       "min": 0.0,
       "orientation": "horizontal",
       "style": "IPY_MODEL_7dbe1163d1cb4255ba1a56505d1ac5fa",
       "tabbable": null,
       "tooltip": null,
       "value": 48.0
      }
     },
     "6a9224fedfb2411f8df0f2b16d66f8ec": {
      "model_module": "@jupyter-widgets/controls",
      "model_module_version": "2.0.0",
      "model_name": "ProgressStyleModel",
      "state": {
       "_model_module": "@jupyter-widgets/controls",
       "_model_module_version": "2.0.0",
       "_model_name": "ProgressStyleModel",
       "_view_count": null,
       "_view_module": "@jupyter-widgets/base",
       "_view_module_version": "2.0.0",
       "_view_name": "StyleView",
       "bar_color": null,
       "description_width": ""
      }
     },
     "72d3ce82f4d0462cbfe47f6bd9dea718": {
      "model_module": "@jupyter-widgets/base",
      "model_module_version": "2.0.0",
      "model_name": "LayoutModel",
      "state": {
       "_model_module": "@jupyter-widgets/base",
       "_model_module_version": "2.0.0",
       "_model_name": "LayoutModel",
       "_view_count": null,
       "_view_module": "@jupyter-widgets/base",
       "_view_module_version": "2.0.0",
       "_view_name": "LayoutView",
       "align_content": null,
       "align_items": null,
       "align_self": null,
       "border_bottom": null,
       "border_left": null,
       "border_right": null,
       "border_top": null,
       "bottom": null,
       "display": null,
       "flex": null,
       "flex_flow": null,
       "grid_area": null,
       "grid_auto_columns": null,
       "grid_auto_flow": null,
       "grid_auto_rows": null,
       "grid_column": null,
       "grid_gap": null,
       "grid_row": null,
       "grid_template_areas": null,
       "grid_template_columns": null,
       "grid_template_rows": null,
       "height": null,
       "justify_content": null,
       "justify_items": null,
       "left": null,
       "margin": null,
       "max_height": null,
       "max_width": null,
       "min_height": null,
       "min_width": null,
       "object_fit": null,
       "object_position": null,
       "order": null,
       "overflow": null,
       "padding": null,
       "right": null,
       "top": null,
       "visibility": null,
       "width": null
      }
     },
     "78c4d5c59ef34568bf5cf7fa1e93621c": {
      "model_module": "@jupyter-widgets/controls",
      "model_module_version": "2.0.0",
      "model_name": "ProgressStyleModel",
      "state": {
       "_model_module": "@jupyter-widgets/controls",
       "_model_module_version": "2.0.0",
       "_model_name": "ProgressStyleModel",
       "_view_count": null,
       "_view_module": "@jupyter-widgets/base",
       "_view_module_version": "2.0.0",
       "_view_name": "StyleView",
       "bar_color": null,
       "description_width": ""
      }
     },
     "7db683d553874c00a8bd33006d9e6311": {
      "model_module": "@jupyter-widgets/base",
      "model_module_version": "2.0.0",
      "model_name": "LayoutModel",
      "state": {
       "_model_module": "@jupyter-widgets/base",
       "_model_module_version": "2.0.0",
       "_model_name": "LayoutModel",
       "_view_count": null,
       "_view_module": "@jupyter-widgets/base",
       "_view_module_version": "2.0.0",
       "_view_name": "LayoutView",
       "align_content": null,
       "align_items": null,
       "align_self": null,
       "border_bottom": null,
       "border_left": null,
       "border_right": null,
       "border_top": null,
       "bottom": null,
       "display": null,
       "flex": null,
       "flex_flow": null,
       "grid_area": null,
       "grid_auto_columns": null,
       "grid_auto_flow": null,
       "grid_auto_rows": null,
       "grid_column": null,
       "grid_gap": null,
       "grid_row": null,
       "grid_template_areas": null,
       "grid_template_columns": null,
       "grid_template_rows": null,
       "height": null,
       "justify_content": null,
       "justify_items": null,
       "left": null,
       "margin": null,
       "max_height": null,
       "max_width": null,
       "min_height": null,
       "min_width": null,
       "object_fit": null,
       "object_position": null,
       "order": null,
       "overflow": null,
       "padding": null,
       "right": null,
       "top": null,
       "visibility": null,
       "width": null
      }
     },
     "7dbe1163d1cb4255ba1a56505d1ac5fa": {
      "model_module": "@jupyter-widgets/controls",
      "model_module_version": "2.0.0",
      "model_name": "ProgressStyleModel",
      "state": {
       "_model_module": "@jupyter-widgets/controls",
       "_model_module_version": "2.0.0",
       "_model_name": "ProgressStyleModel",
       "_view_count": null,
       "_view_module": "@jupyter-widgets/base",
       "_view_module_version": "2.0.0",
       "_view_name": "StyleView",
       "bar_color": null,
       "description_width": ""
      }
     },
     "7feb6b9cd17b45c492602a36e26b4435": {
      "model_module": "@jupyter-widgets/base",
      "model_module_version": "2.0.0",
      "model_name": "LayoutModel",
      "state": {
       "_model_module": "@jupyter-widgets/base",
       "_model_module_version": "2.0.0",
       "_model_name": "LayoutModel",
       "_view_count": null,
       "_view_module": "@jupyter-widgets/base",
       "_view_module_version": "2.0.0",
       "_view_name": "LayoutView",
       "align_content": null,
       "align_items": null,
       "align_self": null,
       "border_bottom": null,
       "border_left": null,
       "border_right": null,
       "border_top": null,
       "bottom": null,
       "display": null,
       "flex": null,
       "flex_flow": null,
       "grid_area": null,
       "grid_auto_columns": null,
       "grid_auto_flow": null,
       "grid_auto_rows": null,
       "grid_column": null,
       "grid_gap": null,
       "grid_row": null,
       "grid_template_areas": null,
       "grid_template_columns": null,
       "grid_template_rows": null,
       "height": null,
       "justify_content": null,
       "justify_items": null,
       "left": null,
       "margin": null,
       "max_height": null,
       "max_width": null,
       "min_height": null,
       "min_width": null,
       "object_fit": null,
       "object_position": null,
       "order": null,
       "overflow": null,
       "padding": null,
       "right": null,
       "top": null,
       "visibility": null,
       "width": null
      }
     },
     "834859fe2810446591bda2c9e8e93608": {
      "model_module": "@jupyter-widgets/base",
      "model_module_version": "2.0.0",
      "model_name": "LayoutModel",
      "state": {
       "_model_module": "@jupyter-widgets/base",
       "_model_module_version": "2.0.0",
       "_model_name": "LayoutModel",
       "_view_count": null,
       "_view_module": "@jupyter-widgets/base",
       "_view_module_version": "2.0.0",
       "_view_name": "LayoutView",
       "align_content": null,
       "align_items": null,
       "align_self": null,
       "border_bottom": null,
       "border_left": null,
       "border_right": null,
       "border_top": null,
       "bottom": null,
       "display": null,
       "flex": null,
       "flex_flow": null,
       "grid_area": null,
       "grid_auto_columns": null,
       "grid_auto_flow": null,
       "grid_auto_rows": null,
       "grid_column": null,
       "grid_gap": null,
       "grid_row": null,
       "grid_template_areas": null,
       "grid_template_columns": null,
       "grid_template_rows": null,
       "height": null,
       "justify_content": null,
       "justify_items": null,
       "left": null,
       "margin": null,
       "max_height": null,
       "max_width": null,
       "min_height": null,
       "min_width": null,
       "object_fit": null,
       "object_position": null,
       "order": null,
       "overflow": null,
       "padding": null,
       "right": null,
       "top": null,
       "visibility": null,
       "width": null
      }
     },
     "8659c211f60746e9ab0e35ca008c354f": {
      "model_module": "@jupyter-widgets/controls",
      "model_module_version": "2.0.0",
      "model_name": "HTMLStyleModel",
      "state": {
       "_model_module": "@jupyter-widgets/controls",
       "_model_module_version": "2.0.0",
       "_model_name": "HTMLStyleModel",
       "_view_count": null,
       "_view_module": "@jupyter-widgets/base",
       "_view_module_version": "2.0.0",
       "_view_name": "StyleView",
       "background": null,
       "description_width": "",
       "font_size": null,
       "text_color": null
      }
     },
     "881a94903222446d891e5f23500dcd06": {
      "model_module": "@jupyter-widgets/base",
      "model_module_version": "2.0.0",
      "model_name": "LayoutModel",
      "state": {
       "_model_module": "@jupyter-widgets/base",
       "_model_module_version": "2.0.0",
       "_model_name": "LayoutModel",
       "_view_count": null,
       "_view_module": "@jupyter-widgets/base",
       "_view_module_version": "2.0.0",
       "_view_name": "LayoutView",
       "align_content": null,
       "align_items": null,
       "align_self": null,
       "border_bottom": null,
       "border_left": null,
       "border_right": null,
       "border_top": null,
       "bottom": null,
       "display": null,
       "flex": null,
       "flex_flow": null,
       "grid_area": null,
       "grid_auto_columns": null,
       "grid_auto_flow": null,
       "grid_auto_rows": null,
       "grid_column": null,
       "grid_gap": null,
       "grid_row": null,
       "grid_template_areas": null,
       "grid_template_columns": null,
       "grid_template_rows": null,
       "height": null,
       "justify_content": null,
       "justify_items": null,
       "left": null,
       "margin": null,
       "max_height": null,
       "max_width": null,
       "min_height": null,
       "min_width": null,
       "object_fit": null,
       "object_position": null,
       "order": null,
       "overflow": null,
       "padding": null,
       "right": null,
       "top": null,
       "visibility": null,
       "width": null
      }
     },
     "8cf8793bda44407584cdea19e1d2e093": {
      "model_module": "@jupyter-widgets/base",
      "model_module_version": "2.0.0",
      "model_name": "LayoutModel",
      "state": {
       "_model_module": "@jupyter-widgets/base",
       "_model_module_version": "2.0.0",
       "_model_name": "LayoutModel",
       "_view_count": null,
       "_view_module": "@jupyter-widgets/base",
       "_view_module_version": "2.0.0",
       "_view_name": "LayoutView",
       "align_content": null,
       "align_items": null,
       "align_self": null,
       "border_bottom": null,
       "border_left": null,
       "border_right": null,
       "border_top": null,
       "bottom": null,
       "display": null,
       "flex": null,
       "flex_flow": null,
       "grid_area": null,
       "grid_auto_columns": null,
       "grid_auto_flow": null,
       "grid_auto_rows": null,
       "grid_column": null,
       "grid_gap": null,
       "grid_row": null,
       "grid_template_areas": null,
       "grid_template_columns": null,
       "grid_template_rows": null,
       "height": null,
       "justify_content": null,
       "justify_items": null,
       "left": null,
       "margin": null,
       "max_height": null,
       "max_width": null,
       "min_height": null,
       "min_width": null,
       "object_fit": null,
       "object_position": null,
       "order": null,
       "overflow": null,
       "padding": null,
       "right": null,
       "top": null,
       "visibility": null,
       "width": null
      }
     },
     "8d3d4a8735cf4699ab04c76a83d80087": {
      "model_module": "@jupyter-widgets/controls",
      "model_module_version": "2.0.0",
      "model_name": "HBoxModel",
      "state": {
       "_dom_classes": [],
       "_model_module": "@jupyter-widgets/controls",
       "_model_module_version": "2.0.0",
       "_model_name": "HBoxModel",
       "_view_count": null,
       "_view_module": "@jupyter-widgets/controls",
       "_view_module_version": "2.0.0",
       "_view_name": "HBoxView",
       "box_style": "",
       "children": [
        "IPY_MODEL_fb5888824ac04d4a958033f0717e839d",
        "IPY_MODEL_68fbfd6fd42748cfa0f3b31785eb94e2",
        "IPY_MODEL_1b1671b0c0174130876e7462211cee64"
       ],
       "layout": "IPY_MODEL_fa1233053837479daee9b35c2455d31a",
       "tabbable": null,
       "tooltip": null
      }
     },
     "8deac4fc35bc4ca1b455261b6c6c273c": {
      "model_module": "@jupyter-widgets/base",
      "model_module_version": "2.0.0",
      "model_name": "LayoutModel",
      "state": {
       "_model_module": "@jupyter-widgets/base",
       "_model_module_version": "2.0.0",
       "_model_name": "LayoutModel",
       "_view_count": null,
       "_view_module": "@jupyter-widgets/base",
       "_view_module_version": "2.0.0",
       "_view_name": "LayoutView",
       "align_content": null,
       "align_items": null,
       "align_self": null,
       "border_bottom": null,
       "border_left": null,
       "border_right": null,
       "border_top": null,
       "bottom": null,
       "display": null,
       "flex": null,
       "flex_flow": null,
       "grid_area": null,
       "grid_auto_columns": null,
       "grid_auto_flow": null,
       "grid_auto_rows": null,
       "grid_column": null,
       "grid_gap": null,
       "grid_row": null,
       "grid_template_areas": null,
       "grid_template_columns": null,
       "grid_template_rows": null,
       "height": null,
       "justify_content": null,
       "justify_items": null,
       "left": null,
       "margin": null,
       "max_height": null,
       "max_width": null,
       "min_height": null,
       "min_width": null,
       "object_fit": null,
       "object_position": null,
       "order": null,
       "overflow": null,
       "padding": null,
       "right": null,
       "top": null,
       "visibility": null,
       "width": null
      }
     },
     "8eef2632c31f42e993fc3c739ed57eb7": {
      "model_module": "@jupyter-widgets/controls",
      "model_module_version": "2.0.0",
      "model_name": "HTMLStyleModel",
      "state": {
       "_model_module": "@jupyter-widgets/controls",
       "_model_module_version": "2.0.0",
       "_model_name": "HTMLStyleModel",
       "_view_count": null,
       "_view_module": "@jupyter-widgets/base",
       "_view_module_version": "2.0.0",
       "_view_name": "StyleView",
       "background": null,
       "description_width": "",
       "font_size": null,
       "text_color": null
      }
     },
     "970d676be3bf4dceb651b282eb183f33": {
      "model_module": "@jupyter-widgets/base",
      "model_module_version": "2.0.0",
      "model_name": "LayoutModel",
      "state": {
       "_model_module": "@jupyter-widgets/base",
       "_model_module_version": "2.0.0",
       "_model_name": "LayoutModel",
       "_view_count": null,
       "_view_module": "@jupyter-widgets/base",
       "_view_module_version": "2.0.0",
       "_view_name": "LayoutView",
       "align_content": null,
       "align_items": null,
       "align_self": null,
       "border_bottom": null,
       "border_left": null,
       "border_right": null,
       "border_top": null,
       "bottom": null,
       "display": null,
       "flex": null,
       "flex_flow": null,
       "grid_area": null,
       "grid_auto_columns": null,
       "grid_auto_flow": null,
       "grid_auto_rows": null,
       "grid_column": null,
       "grid_gap": null,
       "grid_row": null,
       "grid_template_areas": null,
       "grid_template_columns": null,
       "grid_template_rows": null,
       "height": null,
       "justify_content": null,
       "justify_items": null,
       "left": null,
       "margin": null,
       "max_height": null,
       "max_width": null,
       "min_height": null,
       "min_width": null,
       "object_fit": null,
       "object_position": null,
       "order": null,
       "overflow": null,
       "padding": null,
       "right": null,
       "top": null,
       "visibility": null,
       "width": null
      }
     },
     "9738dd8c0caf4bddb58e9d72dcc02fcc": {
      "model_module": "@jupyter-widgets/controls",
      "model_module_version": "2.0.0",
      "model_name": "HBoxModel",
      "state": {
       "_dom_classes": [],
       "_model_module": "@jupyter-widgets/controls",
       "_model_module_version": "2.0.0",
       "_model_name": "HBoxModel",
       "_view_count": null,
       "_view_module": "@jupyter-widgets/controls",
       "_view_module_version": "2.0.0",
       "_view_name": "HBoxView",
       "box_style": "",
       "children": [
        "IPY_MODEL_c18bf819e84c48f0a14d9b4707cd3003",
        "IPY_MODEL_9e3937781ec94c11aa21cddf5ab129c8",
        "IPY_MODEL_5d1008339dc842ab8e3fdb71c61195db"
       ],
       "layout": "IPY_MODEL_4c56d130d2eb4e8aa4ce711cd6a696f5",
       "tabbable": null,
       "tooltip": null
      }
     },
     "9ae873e7f7a04bac9d0e7fb7ed34d17a": {
      "model_module": "@jupyter-widgets/controls",
      "model_module_version": "2.0.0",
      "model_name": "HBoxModel",
      "state": {
       "_dom_classes": [],
       "_model_module": "@jupyter-widgets/controls",
       "_model_module_version": "2.0.0",
       "_model_name": "HBoxModel",
       "_view_count": null,
       "_view_module": "@jupyter-widgets/controls",
       "_view_module_version": "2.0.0",
       "_view_name": "HBoxView",
       "box_style": "",
       "children": [
        "IPY_MODEL_df3d5c344e24460b8c7d8e2ff51c9c38",
        "IPY_MODEL_fd36b8b9348b418192bfbd0016fba2ca",
        "IPY_MODEL_3b1e3e672c2948d19bceb5d36906b4ef"
       ],
       "layout": "IPY_MODEL_72d3ce82f4d0462cbfe47f6bd9dea718",
       "tabbable": null,
       "tooltip": null
      }
     },
     "9cf3d4531b864432aa4bfc407965e74a": {
      "model_module": "@jupyter-widgets/controls",
      "model_module_version": "2.0.0",
      "model_name": "ProgressStyleModel",
      "state": {
       "_model_module": "@jupyter-widgets/controls",
       "_model_module_version": "2.0.0",
       "_model_name": "ProgressStyleModel",
       "_view_count": null,
       "_view_module": "@jupyter-widgets/base",
       "_view_module_version": "2.0.0",
       "_view_name": "StyleView",
       "bar_color": null,
       "description_width": ""
      }
     },
     "9e3937781ec94c11aa21cddf5ab129c8": {
      "model_module": "@jupyter-widgets/controls",
      "model_module_version": "2.0.0",
      "model_name": "FloatProgressModel",
      "state": {
       "_dom_classes": [],
       "_model_module": "@jupyter-widgets/controls",
       "_model_module_version": "2.0.0",
       "_model_name": "FloatProgressModel",
       "_view_count": null,
       "_view_module": "@jupyter-widgets/controls",
       "_view_module_version": "2.0.0",
       "_view_name": "ProgressView",
       "bar_style": "success",
       "description": "",
       "description_allow_html": false,
       "layout": "IPY_MODEL_8cf8793bda44407584cdea19e1d2e093",
       "max": 466062.0,
       "min": 0.0,
       "orientation": "horizontal",
       "style": "IPY_MODEL_6a9224fedfb2411f8df0f2b16d66f8ec",
       "tabbable": null,
       "tooltip": null,
       "value": 466062.0
      }
     },
     "a757c115fd01418794e6abbf5141c2a7": {
      "model_module": "@jupyter-widgets/base",
      "model_module_version": "2.0.0",
      "model_name": "LayoutModel",
      "state": {
       "_model_module": "@jupyter-widgets/base",
       "_model_module_version": "2.0.0",
       "_model_name": "LayoutModel",
       "_view_count": null,
       "_view_module": "@jupyter-widgets/base",
       "_view_module_version": "2.0.0",
       "_view_name": "LayoutView",
       "align_content": null,
       "align_items": null,
       "align_self": null,
       "border_bottom": null,
       "border_left": null,
       "border_right": null,
       "border_top": null,
       "bottom": null,
       "display": null,
       "flex": null,
       "flex_flow": null,
       "grid_area": null,
       "grid_auto_columns": null,
       "grid_auto_flow": null,
       "grid_auto_rows": null,
       "grid_column": null,
       "grid_gap": null,
       "grid_row": null,
       "grid_template_areas": null,
       "grid_template_columns": null,
       "grid_template_rows": null,
       "height": null,
       "justify_content": null,
       "justify_items": null,
       "left": null,
       "margin": null,
       "max_height": null,
       "max_width": null,
       "min_height": null,
       "min_width": null,
       "object_fit": null,
       "object_position": null,
       "order": null,
       "overflow": null,
       "padding": null,
       "right": null,
       "top": null,
       "visibility": null,
       "width": null
      }
     },
     "a8ccc2b01af2406792795e3fe4e3a8bf": {
      "model_module": "@jupyter-widgets/controls",
      "model_module_version": "2.0.0",
      "model_name": "HTMLModel",
      "state": {
       "_dom_classes": [],
       "_model_module": "@jupyter-widgets/controls",
       "_model_module_version": "2.0.0",
       "_model_name": "HTMLModel",
       "_view_count": null,
       "_view_module": "@jupyter-widgets/controls",
       "_view_module_version": "2.0.0",
       "_view_name": "HTMLView",
       "description": "",
       "description_allow_html": false,
       "layout": "IPY_MODEL_b52a7aa45c06455f8d0b2950dbee06b3",
       "placeholder": "​",
       "style": "IPY_MODEL_ce1fbae75887459dab939efeb78ef718",
       "tabbable": null,
       "tooltip": null,
       "value": "vocab.txt: 100%"
      }
     },
     "aa5ccc49d7414018a20426b1a543b359": {
      "model_module": "@jupyter-widgets/controls",
      "model_module_version": "2.0.0",
      "model_name": "HTMLStyleModel",
      "state": {
       "_model_module": "@jupyter-widgets/controls",
       "_model_module_version": "2.0.0",
       "_model_name": "HTMLStyleModel",
       "_view_count": null,
       "_view_module": "@jupyter-widgets/base",
       "_view_module_version": "2.0.0",
       "_view_name": "StyleView",
       "background": null,
       "description_width": "",
       "font_size": null,
       "text_color": null
      }
     },
     "aafcbd50bae74b60a8bacc3f2cc7dac3": {
      "model_module": "@jupyter-widgets/base",
      "model_module_version": "2.0.0",
      "model_name": "LayoutModel",
      "state": {
       "_model_module": "@jupyter-widgets/base",
       "_model_module_version": "2.0.0",
       "_model_name": "LayoutModel",
       "_view_count": null,
       "_view_module": "@jupyter-widgets/base",
       "_view_module_version": "2.0.0",
       "_view_name": "LayoutView",
       "align_content": null,
       "align_items": null,
       "align_self": null,
       "border_bottom": null,
       "border_left": null,
       "border_right": null,
       "border_top": null,
       "bottom": null,
       "display": null,
       "flex": null,
       "flex_flow": null,
       "grid_area": null,
       "grid_auto_columns": null,
       "grid_auto_flow": null,
       "grid_auto_rows": null,
       "grid_column": null,
       "grid_gap": null,
       "grid_row": null,
       "grid_template_areas": null,
       "grid_template_columns": null,
       "grid_template_rows": null,
       "height": null,
       "justify_content": null,
       "justify_items": null,
       "left": null,
       "margin": null,
       "max_height": null,
       "max_width": null,
       "min_height": null,
       "min_width": null,
       "object_fit": null,
       "object_position": null,
       "order": null,
       "overflow": null,
       "padding": null,
       "right": null,
       "top": null,
       "visibility": null,
       "width": null
      }
     },
     "b054648ebd324423b485f06c61c55714": {
      "model_module": "@jupyter-widgets/base",
      "model_module_version": "2.0.0",
      "model_name": "LayoutModel",
      "state": {
       "_model_module": "@jupyter-widgets/base",
       "_model_module_version": "2.0.0",
       "_model_name": "LayoutModel",
       "_view_count": null,
       "_view_module": "@jupyter-widgets/base",
       "_view_module_version": "2.0.0",
       "_view_name": "LayoutView",
       "align_content": null,
       "align_items": null,
       "align_self": null,
       "border_bottom": null,
       "border_left": null,
       "border_right": null,
       "border_top": null,
       "bottom": null,
       "display": null,
       "flex": null,
       "flex_flow": null,
       "grid_area": null,
       "grid_auto_columns": null,
       "grid_auto_flow": null,
       "grid_auto_rows": null,
       "grid_column": null,
       "grid_gap": null,
       "grid_row": null,
       "grid_template_areas": null,
       "grid_template_columns": null,
       "grid_template_rows": null,
       "height": null,
       "justify_content": null,
       "justify_items": null,
       "left": null,
       "margin": null,
       "max_height": null,
       "max_width": null,
       "min_height": null,
       "min_width": null,
       "object_fit": null,
       "object_position": null,
       "order": null,
       "overflow": null,
       "padding": null,
       "right": null,
       "top": null,
       "visibility": null,
       "width": null
      }
     },
     "b52a7aa45c06455f8d0b2950dbee06b3": {
      "model_module": "@jupyter-widgets/base",
      "model_module_version": "2.0.0",
      "model_name": "LayoutModel",
      "state": {
       "_model_module": "@jupyter-widgets/base",
       "_model_module_version": "2.0.0",
       "_model_name": "LayoutModel",
       "_view_count": null,
       "_view_module": "@jupyter-widgets/base",
       "_view_module_version": "2.0.0",
       "_view_name": "LayoutView",
       "align_content": null,
       "align_items": null,
       "align_self": null,
       "border_bottom": null,
       "border_left": null,
       "border_right": null,
       "border_top": null,
       "bottom": null,
       "display": null,
       "flex": null,
       "flex_flow": null,
       "grid_area": null,
       "grid_auto_columns": null,
       "grid_auto_flow": null,
       "grid_auto_rows": null,
       "grid_column": null,
       "grid_gap": null,
       "grid_row": null,
       "grid_template_areas": null,
       "grid_template_columns": null,
       "grid_template_rows": null,
       "height": null,
       "justify_content": null,
       "justify_items": null,
       "left": null,
       "margin": null,
       "max_height": null,
       "max_width": null,
       "min_height": null,
       "min_width": null,
       "object_fit": null,
       "object_position": null,
       "order": null,
       "overflow": null,
       "padding": null,
       "right": null,
       "top": null,
       "visibility": null,
       "width": null
      }
     },
     "b6009e614223452ab72d7ba86b7d4f93": {
      "model_module": "@jupyter-widgets/controls",
      "model_module_version": "2.0.0",
      "model_name": "HTMLStyleModel",
      "state": {
       "_model_module": "@jupyter-widgets/controls",
       "_model_module_version": "2.0.0",
       "_model_name": "HTMLStyleModel",
       "_view_count": null,
       "_view_module": "@jupyter-widgets/base",
       "_view_module_version": "2.0.0",
       "_view_name": "StyleView",
       "background": null,
       "description_width": "",
       "font_size": null,
       "text_color": null
      }
     },
     "bbbe64b6e38f4ae2b7683824aa9ca666": {
      "model_module": "@jupyter-widgets/controls",
      "model_module_version": "2.0.0",
      "model_name": "HTMLModel",
      "state": {
       "_dom_classes": [],
       "_model_module": "@jupyter-widgets/controls",
       "_model_module_version": "2.0.0",
       "_model_name": "HTMLModel",
       "_view_count": null,
       "_view_module": "@jupyter-widgets/controls",
       "_view_module_version": "2.0.0",
       "_view_name": "HTMLView",
       "description": "",
       "description_allow_html": false,
       "layout": "IPY_MODEL_b054648ebd324423b485f06c61c55714",
       "placeholder": "​",
       "style": "IPY_MODEL_33ef312bc21e49a18a829796ef32529c",
       "tabbable": null,
       "tooltip": null,
       "value": "config.json: 100%"
      }
     },
     "c18bf819e84c48f0a14d9b4707cd3003": {
      "model_module": "@jupyter-widgets/controls",
      "model_module_version": "2.0.0",
      "model_name": "HTMLModel",
      "state": {
       "_dom_classes": [],
       "_model_module": "@jupyter-widgets/controls",
       "_model_module_version": "2.0.0",
       "_model_name": "HTMLModel",
       "_view_count": null,
       "_view_module": "@jupyter-widgets/controls",
       "_view_module_version": "2.0.0",
       "_view_name": "HTMLView",
       "description": "",
       "description_allow_html": false,
       "layout": "IPY_MODEL_aafcbd50bae74b60a8bacc3f2cc7dac3",
       "placeholder": "​",
       "style": "IPY_MODEL_c247b123eb7b4ecba7ebf3ba2045ca7d",
       "tabbable": null,
       "tooltip": null,
       "value": "tokenizer.json: 100%"
      }
     },
     "c247b123eb7b4ecba7ebf3ba2045ca7d": {
      "model_module": "@jupyter-widgets/controls",
      "model_module_version": "2.0.0",
      "model_name": "HTMLStyleModel",
      "state": {
       "_model_module": "@jupyter-widgets/controls",
       "_model_module_version": "2.0.0",
       "_model_name": "HTMLStyleModel",
       "_view_count": null,
       "_view_module": "@jupyter-widgets/base",
       "_view_module_version": "2.0.0",
       "_view_name": "StyleView",
       "background": null,
       "description_width": "",
       "font_size": null,
       "text_color": null
      }
     },
     "cd5f3901a69b4ba2923cee9c489ed0ac": {
      "model_module": "@jupyter-widgets/controls",
      "model_module_version": "2.0.0",
      "model_name": "ProgressStyleModel",
      "state": {
       "_model_module": "@jupyter-widgets/controls",
       "_model_module_version": "2.0.0",
       "_model_name": "ProgressStyleModel",
       "_view_count": null,
       "_view_module": "@jupyter-widgets/base",
       "_view_module_version": "2.0.0",
       "_view_name": "StyleView",
       "bar_color": null,
       "description_width": ""
      }
     },
     "cda4a49342664e60bd9b2a6983be71b9": {
      "model_module": "@jupyter-widgets/base",
      "model_module_version": "2.0.0",
      "model_name": "LayoutModel",
      "state": {
       "_model_module": "@jupyter-widgets/base",
       "_model_module_version": "2.0.0",
       "_model_name": "LayoutModel",
       "_view_count": null,
       "_view_module": "@jupyter-widgets/base",
       "_view_module_version": "2.0.0",
       "_view_name": "LayoutView",
       "align_content": null,
       "align_items": null,
       "align_self": null,
       "border_bottom": null,
       "border_left": null,
       "border_right": null,
       "border_top": null,
       "bottom": null,
       "display": null,
       "flex": null,
       "flex_flow": null,
       "grid_area": null,
       "grid_auto_columns": null,
       "grid_auto_flow": null,
       "grid_auto_rows": null,
       "grid_column": null,
       "grid_gap": null,
       "grid_row": null,
       "grid_template_areas": null,
       "grid_template_columns": null,
       "grid_template_rows": null,
       "height": null,
       "justify_content": null,
       "justify_items": null,
       "left": null,
       "margin": null,
       "max_height": null,
       "max_width": null,
       "min_height": null,
       "min_width": null,
       "object_fit": null,
       "object_position": null,
       "order": null,
       "overflow": null,
       "padding": null,
       "right": null,
       "top": null,
       "visibility": null,
       "width": null
      }
     },
     "ce1fbae75887459dab939efeb78ef718": {
      "model_module": "@jupyter-widgets/controls",
      "model_module_version": "2.0.0",
      "model_name": "HTMLStyleModel",
      "state": {
       "_model_module": "@jupyter-widgets/controls",
       "_model_module_version": "2.0.0",
       "_model_name": "HTMLStyleModel",
       "_view_count": null,
       "_view_module": "@jupyter-widgets/base",
       "_view_module_version": "2.0.0",
       "_view_name": "StyleView",
       "background": null,
       "description_width": "",
       "font_size": null,
       "text_color": null
      }
     },
     "d108d64e4ca940a9a188cea3cddd4691": {
      "model_module": "@jupyter-widgets/controls",
      "model_module_version": "2.0.0",
      "model_name": "HTMLStyleModel",
      "state": {
       "_model_module": "@jupyter-widgets/controls",
       "_model_module_version": "2.0.0",
       "_model_name": "HTMLStyleModel",
       "_view_count": null,
       "_view_module": "@jupyter-widgets/base",
       "_view_module_version": "2.0.0",
       "_view_name": "StyleView",
       "background": null,
       "description_width": "",
       "font_size": null,
       "text_color": null
      }
     },
     "d183542a027342d58196100bbbba0945": {
      "model_module": "@jupyter-widgets/base",
      "model_module_version": "2.0.0",
      "model_name": "LayoutModel",
      "state": {
       "_model_module": "@jupyter-widgets/base",
       "_model_module_version": "2.0.0",
       "_model_name": "LayoutModel",
       "_view_count": null,
       "_view_module": "@jupyter-widgets/base",
       "_view_module_version": "2.0.0",
       "_view_name": "LayoutView",
       "align_content": null,
       "align_items": null,
       "align_self": null,
       "border_bottom": null,
       "border_left": null,
       "border_right": null,
       "border_top": null,
       "bottom": null,
       "display": null,
       "flex": null,
       "flex_flow": null,
       "grid_area": null,
       "grid_auto_columns": null,
       "grid_auto_flow": null,
       "grid_auto_rows": null,
       "grid_column": null,
       "grid_gap": null,
       "grid_row": null,
       "grid_template_areas": null,
       "grid_template_columns": null,
       "grid_template_rows": null,
       "height": null,
       "justify_content": null,
       "justify_items": null,
       "left": null,
       "margin": null,
       "max_height": null,
       "max_width": null,
       "min_height": null,
       "min_width": null,
       "object_fit": null,
       "object_position": null,
       "order": null,
       "overflow": null,
       "padding": null,
       "right": null,
       "top": null,
       "visibility": null,
       "width": null
      }
     },
     "d57997eba28e40978119ae06365d00c0": {
      "model_module": "@jupyter-widgets/controls",
      "model_module_version": "2.0.0",
      "model_name": "ProgressStyleModel",
      "state": {
       "_model_module": "@jupyter-widgets/controls",
       "_model_module_version": "2.0.0",
       "_model_name": "ProgressStyleModel",
       "_view_count": null,
       "_view_module": "@jupyter-widgets/base",
       "_view_module_version": "2.0.0",
       "_view_name": "StyleView",
       "bar_color": null,
       "description_width": ""
      }
     },
     "d6063c0dc6eb4237bc7824cd0986ce57": {
      "model_module": "@jupyter-widgets/base",
      "model_module_version": "2.0.0",
      "model_name": "LayoutModel",
      "state": {
       "_model_module": "@jupyter-widgets/base",
       "_model_module_version": "2.0.0",
       "_model_name": "LayoutModel",
       "_view_count": null,
       "_view_module": "@jupyter-widgets/base",
       "_view_module_version": "2.0.0",
       "_view_name": "LayoutView",
       "align_content": null,
       "align_items": null,
       "align_self": null,
       "border_bottom": null,
       "border_left": null,
       "border_right": null,
       "border_top": null,
       "bottom": null,
       "display": null,
       "flex": null,
       "flex_flow": null,
       "grid_area": null,
       "grid_auto_columns": null,
       "grid_auto_flow": null,
       "grid_auto_rows": null,
       "grid_column": null,
       "grid_gap": null,
       "grid_row": null,
       "grid_template_areas": null,
       "grid_template_columns": null,
       "grid_template_rows": null,
       "height": null,
       "justify_content": null,
       "justify_items": null,
       "left": null,
       "margin": null,
       "max_height": null,
       "max_width": null,
       "min_height": null,
       "min_width": null,
       "object_fit": null,
       "object_position": null,
       "order": null,
       "overflow": null,
       "padding": null,
       "right": null,
       "top": null,
       "visibility": null,
       "width": null
      }
     },
     "d74093639b5f499d8120622761319a47": {
      "model_module": "@jupyter-widgets/base",
      "model_module_version": "2.0.0",
      "model_name": "LayoutModel",
      "state": {
       "_model_module": "@jupyter-widgets/base",
       "_model_module_version": "2.0.0",
       "_model_name": "LayoutModel",
       "_view_count": null,
       "_view_module": "@jupyter-widgets/base",
       "_view_module_version": "2.0.0",
       "_view_name": "LayoutView",
       "align_content": null,
       "align_items": null,
       "align_self": null,
       "border_bottom": null,
       "border_left": null,
       "border_right": null,
       "border_top": null,
       "bottom": null,
       "display": null,
       "flex": null,
       "flex_flow": null,
       "grid_area": null,
       "grid_auto_columns": null,
       "grid_auto_flow": null,
       "grid_auto_rows": null,
       "grid_column": null,
       "grid_gap": null,
       "grid_row": null,
       "grid_template_areas": null,
       "grid_template_columns": null,
       "grid_template_rows": null,
       "height": null,
       "justify_content": null,
       "justify_items": null,
       "left": null,
       "margin": null,
       "max_height": null,
       "max_width": null,
       "min_height": null,
       "min_width": null,
       "object_fit": null,
       "object_position": null,
       "order": null,
       "overflow": null,
       "padding": null,
       "right": null,
       "top": null,
       "visibility": null,
       "width": null
      }
     },
     "df3d5c344e24460b8c7d8e2ff51c9c38": {
      "model_module": "@jupyter-widgets/controls",
      "model_module_version": "2.0.0",
      "model_name": "HTMLModel",
      "state": {
       "_dom_classes": [],
       "_model_module": "@jupyter-widgets/controls",
       "_model_module_version": "2.0.0",
       "_model_name": "HTMLModel",
       "_view_count": null,
       "_view_module": "@jupyter-widgets/controls",
       "_view_module_version": "2.0.0",
       "_view_name": "HTMLView",
       "description": "",
       "description_allow_html": false,
       "layout": "IPY_MODEL_2bc174fc33924a1180ed9f07e5fa5ceb",
       "placeholder": "​",
       "style": "IPY_MODEL_8eef2632c31f42e993fc3c739ed57eb7",
       "tabbable": null,
       "tooltip": null,
       "value": "Generating train split: "
      }
     },
     "e336ab9d17c54450bf0a4862aaf1a868": {
      "model_module": "@jupyter-widgets/controls",
      "model_module_version": "2.0.0",
      "model_name": "HBoxModel",
      "state": {
       "_dom_classes": [],
       "_model_module": "@jupyter-widgets/controls",
       "_model_module_version": "2.0.0",
       "_model_name": "HBoxModel",
       "_view_count": null,
       "_view_module": "@jupyter-widgets/controls",
       "_view_module_version": "2.0.0",
       "_view_name": "HBoxView",
       "box_style": "",
       "children": [
        "IPY_MODEL_a8ccc2b01af2406792795e3fe4e3a8bf",
        "IPY_MODEL_11afa4979f55468985eed45e110045f1",
        "IPY_MODEL_5a0e991e8bcb4b60a7c6bb2629156e4e"
       ],
       "layout": "IPY_MODEL_8deac4fc35bc4ca1b455261b6c6c273c",
       "tabbable": null,
       "tooltip": null
      }
     },
     "e54651f9d31740d7a6755435b8fbdf76": {
      "model_module": "@jupyter-widgets/controls",
      "model_module_version": "2.0.0",
      "model_name": "HTMLModel",
      "state": {
       "_dom_classes": [],
       "_model_module": "@jupyter-widgets/controls",
       "_model_module_version": "2.0.0",
       "_model_name": "HTMLModel",
       "_view_count": null,
       "_view_module": "@jupyter-widgets/controls",
       "_view_module_version": "2.0.0",
       "_view_name": "HTMLView",
       "description": "",
       "description_allow_html": false,
       "layout": "IPY_MODEL_970d676be3bf4dceb651b282eb183f33",
       "placeholder": "​",
       "style": "IPY_MODEL_d108d64e4ca940a9a188cea3cddd4691",
       "tabbable": null,
       "tooltip": null,
       "value": "Computing checksums: 100%"
      }
     },
     "e554bb2d57b54022a56d32e62b396815": {
      "model_module": "@jupyter-widgets/base",
      "model_module_version": "2.0.0",
      "model_name": "LayoutModel",
      "state": {
       "_model_module": "@jupyter-widgets/base",
       "_model_module_version": "2.0.0",
       "_model_name": "LayoutModel",
       "_view_count": null,
       "_view_module": "@jupyter-widgets/base",
       "_view_module_version": "2.0.0",
       "_view_name": "LayoutView",
       "align_content": null,
       "align_items": null,
       "align_self": null,
       "border_bottom": null,
       "border_left": null,
       "border_right": null,
       "border_top": null,
       "bottom": null,
       "display": null,
       "flex": null,
       "flex_flow": null,
       "grid_area": null,
       "grid_auto_columns": null,
       "grid_auto_flow": null,
       "grid_auto_rows": null,
       "grid_column": null,
       "grid_gap": null,
       "grid_row": null,
       "grid_template_areas": null,
       "grid_template_columns": null,
       "grid_template_rows": null,
       "height": null,
       "justify_content": null,
       "justify_items": null,
       "left": null,
       "margin": null,
       "max_height": null,
       "max_width": null,
       "min_height": null,
       "min_width": null,
       "object_fit": null,
       "object_position": null,
       "order": null,
       "overflow": null,
       "padding": null,
       "right": null,
       "top": null,
       "visibility": null,
       "width": null
      }
     },
     "fa1233053837479daee9b35c2455d31a": {
      "model_module": "@jupyter-widgets/base",
      "model_module_version": "2.0.0",
      "model_name": "LayoutModel",
      "state": {
       "_model_module": "@jupyter-widgets/base",
       "_model_module_version": "2.0.0",
       "_model_name": "LayoutModel",
       "_view_count": null,
       "_view_module": "@jupyter-widgets/base",
       "_view_module_version": "2.0.0",
       "_view_name": "LayoutView",
       "align_content": null,
       "align_items": null,
       "align_self": null,
       "border_bottom": null,
       "border_left": null,
       "border_right": null,
       "border_top": null,
       "bottom": null,
       "display": null,
       "flex": null,
       "flex_flow": null,
       "grid_area": null,
       "grid_auto_columns": null,
       "grid_auto_flow": null,
       "grid_auto_rows": null,
       "grid_column": null,
       "grid_gap": null,
       "grid_row": null,
       "grid_template_areas": null,
       "grid_template_columns": null,
       "grid_template_rows": null,
       "height": null,
       "justify_content": null,
       "justify_items": null,
       "left": null,
       "margin": null,
       "max_height": null,
       "max_width": null,
       "min_height": null,
       "min_width": null,
       "object_fit": null,
       "object_position": null,
       "order": null,
       "overflow": null,
       "padding": null,
       "right": null,
       "top": null,
       "visibility": null,
       "width": null
      }
     },
     "fb5888824ac04d4a958033f0717e839d": {
      "model_module": "@jupyter-widgets/controls",
      "model_module_version": "2.0.0",
      "model_name": "HTMLModel",
      "state": {
       "_dom_classes": [],
       "_model_module": "@jupyter-widgets/controls",
       "_model_module_version": "2.0.0",
       "_model_name": "HTMLModel",
       "_view_count": null,
       "_view_module": "@jupyter-widgets/controls",
       "_view_module_version": "2.0.0",
       "_view_name": "HTMLView",
       "description": "",
       "description_allow_html": false,
       "layout": "IPY_MODEL_d183542a027342d58196100bbbba0945",
       "placeholder": "​",
       "style": "IPY_MODEL_09e4c5884dfa436ab59f28da20853235",
       "tabbable": null,
       "tooltip": null,
       "value": "tokenizer_config.json: 100%"
      }
     },
     "fbad0a6f3572431d9a62932446e40901": {
      "model_module": "@jupyter-widgets/base",
      "model_module_version": "2.0.0",
      "model_name": "LayoutModel",
      "state": {
       "_model_module": "@jupyter-widgets/base",
       "_model_module_version": "2.0.0",
       "_model_name": "LayoutModel",
       "_view_count": null,
       "_view_module": "@jupyter-widgets/base",
       "_view_module_version": "2.0.0",
       "_view_name": "LayoutView",
       "align_content": null,
       "align_items": null,
       "align_self": null,
       "border_bottom": null,
       "border_left": null,
       "border_right": null,
       "border_top": null,
       "bottom": null,
       "display": null,
       "flex": null,
       "flex_flow": null,
       "grid_area": null,
       "grid_auto_columns": null,
       "grid_auto_flow": null,
       "grid_auto_rows": null,
       "grid_column": null,
       "grid_gap": null,
       "grid_row": null,
       "grid_template_areas": null,
       "grid_template_columns": null,
       "grid_template_rows": null,
       "height": null,
       "justify_content": null,
       "justify_items": null,
       "left": null,
       "margin": null,
       "max_height": null,
       "max_width": null,
       "min_height": null,
       "min_width": null,
       "object_fit": null,
       "object_position": null,
       "order": null,
       "overflow": null,
       "padding": null,
       "right": null,
       "top": null,
       "visibility": null,
       "width": null
      }
     },
     "fd36b8b9348b418192bfbd0016fba2ca": {
      "model_module": "@jupyter-widgets/controls",
      "model_module_version": "2.0.0",
      "model_name": "FloatProgressModel",
      "state": {
       "_dom_classes": [],
       "_model_module": "@jupyter-widgets/controls",
       "_model_module_version": "2.0.0",
       "_model_name": "FloatProgressModel",
       "_view_count": null,
       "_view_module": "@jupyter-widgets/controls",
       "_view_module_version": "2.0.0",
       "_view_name": "ProgressView",
       "bar_style": "success",
       "description": "",
       "description_allow_html": false,
       "layout": "IPY_MODEL_0d3ac20bf25c4150ad7b8041109c617d",
       "max": 1.0,
       "min": 0.0,
       "orientation": "horizontal",
       "style": "IPY_MODEL_d57997eba28e40978119ae06365d00c0",
       "tabbable": null,
       "tooltip": null,
       "value": 1.0
      }
     },
     "fd6fcf37789642a19927312042bfd3c8": {
      "model_module": "@jupyter-widgets/controls",
      "model_module_version": "2.0.0",
      "model_name": "FloatProgressModel",
      "state": {
       "_dom_classes": [],
       "_model_module": "@jupyter-widgets/controls",
       "_model_module_version": "2.0.0",
       "_model_name": "FloatProgressModel",
       "_view_count": null,
       "_view_module": "@jupyter-widgets/controls",
       "_view_module_version": "2.0.0",
       "_view_name": "ProgressView",
       "bar_style": "success",
       "description": "",
       "description_allow_html": false,
       "layout": "IPY_MODEL_e554bb2d57b54022a56d32e62b396815",
       "max": 570.0,
       "min": 0.0,
       "orientation": "horizontal",
       "style": "IPY_MODEL_9cf3d4531b864432aa4bfc407965e74a",
       "tabbable": null,
       "tooltip": null,
       "value": 570.0
      }
     }
    },
    "version_major": 2,
    "version_minor": 0
   }
  }
 },
 "nbformat": 4,
 "nbformat_minor": 5
}
